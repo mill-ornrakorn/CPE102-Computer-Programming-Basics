{
 "cells": [
  {
   "cell_type": "markdown",
   "metadata": {},
   "source": [
    "## <center>CPE102 Computer Programming Basics</center>\n",
    "# <center>Lab 8 - Classes and Objects</center>\n",
    "---"
   ]
  },
  {
   "cell_type": "code",
   "execution_count": 12,
   "metadata": {},
   "outputs": [
    {
     "name": "stdout",
     "output_type": "stream",
     "text": [
      "Mill\n"
     ]
    }
   ],
   "source": [
    "class User:\n",
    "    name = \"\"  #การประกาศ\n",
    "    \n",
    "    #ทุกคลาสต้องมี __init__ ถ้าเราไม่ใส่ไปpython จะใส่เองอัตโนมัติเลย\n",
    "    def __init__(self,name): #  __init__ย่อมาจากs initializing  #self คือObjectsนั้นๆ\n",
    "        self.name = name  #ให้Objectsนั้นๆ = name\n",
    "    def sayHello(self):\n",
    "        print(\"Hello,my name is\"+self.name)\n",
    "        \n",
    "ornrakorn = User(\"Mill\")  #ornrakorn คือ Objects  #Mill คือ parameter\n",
    "\n",
    "print(ornrakorn.name)"
   ]
  },
  {
   "cell_type": "code",
   "execution_count": 25,
   "metadata": {},
   "outputs": [
    {
     "name": "stdout",
     "output_type": "stream",
     "text": [
      "Name = Python Bean\n",
      "Beans = 83\n",
      "Water = 20\n",
      "\n",
      "Name = Python Bean\n",
      "Beans = 84\n",
      "Water = 20\n"
     ]
    }
   ],
   "source": [
    "class CoffeeMachine:\n",
    "    name = \"\"\n",
    "    beans = 0\n",
    "    water = 0\n",
    "    \n",
    "    def __init__(self,name,beans,water):\n",
    "        self.name = name\n",
    "        self.beans = beans\n",
    "        self.water = water\n",
    "    \n",
    "    def addBean(self):\n",
    "        self.beans = self.beans+1\n",
    "    def removeBean(self):\n",
    "        self.beans = self.beans-1\n",
    "    def addWater(self):\n",
    "        self.water= self.water+1\n",
    "    def removeWater(self):\n",
    "        self.water= self.water-1\n",
    "        \n",
    "    def printState(self):\n",
    "        print(\"Name = \"+self.name)\n",
    "        print(\"Beans = \"+str(self.beans))\n",
    "        print(\"Water = \"+str(self.water))\n",
    "        \n",
    "pythonBean = CoffeeMachine(\"Python Bean\",83,20)\n",
    "pythonBean.printState()\n",
    "print()   #มีหน้าที่ไว้เว้น\n",
    "pythonBean.addBean()\n",
    "pythonBean.printState()"
   ]
  },
  {
   "cell_type": "code",
   "execution_count": 22,
   "metadata": {},
   "outputs": [
    {
     "name": "stdout",
     "output_type": "stream",
     "text": [
      "Fer is a red convertible worth $ 60,000.00\n",
      "\n",
      "Jump is a blue van worth $ 10,000.00\n"
     ]
    }
   ],
   "source": [
    "#วิธีที่ 1\n",
    "#ถ้าเราไม่ใส่ __init__ \n",
    "\n",
    "class vehicle:\n",
    "    name = \"\"\n",
    "    kind = \"car\"\n",
    "    color = \"\"\n",
    "    value =100.00\n",
    "    \n",
    "    def description(self):\n",
    "        desc_str = \"%s is a %s %s worth %2.f.\" % (self.name,self.color,self.kind,self.value)\n",
    "        return desc_str\n",
    "    \n",
    "    def printState(self):\n",
    "        print(self.name,\"is a\",self.color,self.kind,\"worth $\",self.value)\n",
    "    \n",
    "car1 = vehicle()\n",
    "car1.name = \"Fer\"   \n",
    "car1.kind = \"convertible\"   \n",
    "car1.color = \"red\"  \n",
    "car1.value = \"60,000.00\"   \n",
    "car1.printState()\n",
    "print()\n",
    "car2 = vehicle()\n",
    "car2.name = \"Jump\"   \n",
    "car2.kind = \"van\"   \n",
    "car2.color = \"blue\"  \n",
    "car2.value = \"10,000.00\"   \n",
    "car2.printState()\n"
   ]
  },
  {
   "cell_type": "code",
   "execution_count": 16,
   "metadata": {},
   "outputs": [
    {
     "name": "stdout",
     "output_type": "stream",
     "text": [
      "Fer is a red convertible worth $ 60000\n"
     ]
    }
   ],
   "source": [
    "#วิธีที่ 2\n",
    "#ถ้าเราไม่ใส่ __init__ \n",
    "\n",
    "class vehicle:\n",
    "    name = \"\"\n",
    "    kind = \"car\"\n",
    "    color = \"\"\n",
    "    value =100.00\n",
    "    \n",
    "    def description(self):\n",
    "        desc_str = \"%s is a %s %s worth $ %2.f\" % (self.name,self.color,self.kind,self.value)\n",
    "        return desc_str\n",
    "        \n",
    "car1 = vehicle()\n",
    "car1.name = \"Fer\"   \n",
    "car1.kind = \"convertible\"   \n",
    "car1.color = \"red\"  \n",
    "car1.value = 60000\n",
    "print(car1.description())\n"
   ]
  },
  {
   "cell_type": "code",
   "execution_count": 28,
   "metadata": {},
   "outputs": [
    {
     "name": "stdout",
     "output_type": "stream",
     "text": [
      "Fer is a red convertible worth $ 60000.0\n",
      "\n",
      "Jump is a blue van worth $ 10000.0\n"
     ]
    }
   ],
   "source": [
    "#วิธีที่ 1\n",
    "#ถ้าเราใส่ __init__ \n",
    "\n",
    "class vehicle:\n",
    "    name = \"\"\n",
    "    kind = \"car\"\n",
    "    color = \"\"\n",
    "    value =100.00\n",
    "    \n",
    "    def __init__(self,name,color,kind,value):\n",
    "        self.name = name\n",
    "        self.color = color\n",
    "        self.kind = kind\n",
    "        self.value = value\n",
    "    \n",
    "    def description(self):\n",
    "        desc_str = \"%s is a %s %s worth $ %2.f\" % (self.name,self.color,self.kind,self.value)\n",
    "        return desc_str\n",
    "    def printState(self):\n",
    "        print(self.name,\"is a\",self.color,self.kind,\"worth $\",self.value)\n",
    "\n",
    "car1 = vehicle(\"Fer\",\"red\",\"convertible\",60000.00)\n",
    "car1.printState()\n",
    "print()\n",
    "car2 = vehicle(\"Jump\",\"blue\",\"van\",10000.00)\n",
    "car2.printState()"
   ]
  },
  {
   "cell_type": "code",
   "execution_count": 20,
   "metadata": {},
   "outputs": [
    {
     "name": "stdout",
     "output_type": "stream",
     "text": [
      "Fer is a red convertible worth $ 60000\n"
     ]
    }
   ],
   "source": [
    "#วิธีที่ 2\n",
    "#ถ้าเราใส่ __init__ \n",
    "\n",
    "class vehicle:\n",
    "    name = \"\"\n",
    "    kind = \"car\"\n",
    "    color = \"\"\n",
    "    value =100.00\n",
    "    \n",
    "    def __init__(self,name,color,kind,value):\n",
    "        self.name = name\n",
    "        self.color = color\n",
    "        self.kind = kind\n",
    "        self.value = value\n",
    "    \n",
    "    def description(self):\n",
    "        desc_str = \"%s is a %s %s worth $ %2.f\" % (self.name,self.color,self.kind,self.value)\n",
    "        print(desc_str)\n",
    "    \n",
    "\n",
    "car1 = vehicle(\"Fer\",\"red\",\"convertible\",60000.00)\n",
    "car1.description()\n"
   ]
  },
  {
   "cell_type": "markdown",
   "metadata": {},
   "source": [
    "# -Modules and Packages"
   ]
  },
  {
   "cell_type": "code",
   "execution_count": null,
   "metadata": {},
   "outputs": [],
   "source": [
    "#Packages ใหญ่ > Modules"
   ]
  },
  {
   "cell_type": "code",
   "execution_count": 23,
   "metadata": {},
   "outputs": [
    {
     "data": {
      "text/plain": [
       "module"
      ]
     },
     "execution_count": 23,
     "metadata": {},
     "output_type": "execute_result"
    }
   ],
   "source": [
    "import math\n",
    "type(math)"
   ]
  },
  {
   "cell_type": "code",
   "execution_count": 24,
   "metadata": {},
   "outputs": [
    {
     "data": {
      "text/plain": [
       "0.7853981633974483"
      ]
     },
     "execution_count": 24,
     "metadata": {},
     "output_type": "execute_result"
    }
   ],
   "source": [
    "from math import*\n",
    "radians(45)"
   ]
  },
  {
   "cell_type": "code",
   "execution_count": 25,
   "metadata": {},
   "outputs": [
    {
     "name": "stdout",
     "output_type": "stream",
     "text": [
      "0.9995258306054791\n"
     ]
    }
   ],
   "source": [
    "from math import sin\n",
    "print(sin(1.54))"
   ]
  },
  {
   "cell_type": "code",
   "execution_count": null,
   "metadata": {},
   "outputs": [],
   "source": [
    "import matplotlib as plt #ให้matplotlib มีชื่อย่อว่า plt\n",
    "plt.plot(x,y)"
   ]
  },
  {
   "cell_type": "markdown",
   "metadata": {},
   "source": [
    "# -Testing , Debugging , Expections"
   ]
  },
  {
   "cell_type": "code",
   "execution_count": 33,
   "metadata": {},
   "outputs": [
    {
     "name": "stdout",
     "output_type": "stream",
     "text": [
      "Enter num dsad;lk\n",
      "Bug\n"
     ]
    }
   ],
   "source": [
    "try :\n",
    "    a = int(input(\"Enter num \"))\n",
    "    b = int(input(\"Enter num \"))\n",
    "    print(a/b)\n",
    "except :\n",
    "    print(\"Bug\")\n",
    "    "
   ]
  },
  {
   "cell_type": "code",
   "execution_count": 7,
   "metadata": {},
   "outputs": [
    {
     "name": "stdout",
     "output_type": "stream",
     "text": [
      "Enter num 0\n",
      "Enter num 0\n",
      "can't divide by zero\n"
     ]
    }
   ],
   "source": [
    "try :\n",
    "    a = int(input(\"Enter num \"))\n",
    "    b = int(input(\"Enter num \"))\n",
    "    print(\"a/b = \",a/b)\n",
    "    print(\"a+b = \",a+b)\n",
    "except ValueError:\n",
    "    print(\"coun't convert to a number\")\n",
    "except ZeroDivisionError:\n",
    "    print(\"can't divide by zero\")\n",
    "except :\n",
    "    print(\"Very Wrong\")"
   ]
  },
  {
   "cell_type": "markdown",
   "metadata": {},
   "source": [
    "---"
   ]
  },
  {
   "cell_type": "markdown",
   "metadata": {},
   "source": [
    "# Lab 8"
   ]
  },
  {
   "cell_type": "markdown",
   "metadata": {},
   "source": [
    "Write a function that determines whether or not a\n",
    "password is good.\n",
    "    \n",
    "    ▣ We will define a good password to be a one that is at least 8 characters long and contains at least one \n",
    "    uppercase letter, at least one lowercase letter, and at least one number.\n",
    "    ▣ Your function should return true if the password passed to it as its only parameter is good. \n",
    "    Otherwise it should return false.\n",
    "    ▣ Include a main program that reads a password from the user and reports whether or not it is good. "
   ]
  },
  {
   "cell_type": "code",
   "execution_count": 3,
   "metadata": {},
   "outputs": [
    {
     "name": "stdout",
     "output_type": "stream",
     "text": [
      "Hello! Welcome to the Program check the password this is GOOD or BAD password!\n",
      "\n",
      "\n",
      "The GOOD password is have least 8 characters long and contains \n",
      "at least one uppercase letter, at least one lowercase letter, and at least one number. \n",
      "\n",
      "\n",
      "Please Enter the password : Mdasdjvovp1682383\n",
      "The password is GOOD!\n"
     ]
    },
    {
     "data": {
      "text/plain": [
       "True"
      ]
     },
     "execution_count": 3,
     "metadata": {},
     "output_type": "execute_result"
    }
   ],
   "source": [
    "import re #import module\n",
    "\n",
    "#re ย่อมาจาก Regular Expression เป็นหนึ่งในวิธีการ ค้นหา/คัดกรอง\n",
    "\n",
    "print(\"Hello! Welcome to the Program check the password this is GOOD or BAD password!\")\n",
    "print(\"\\n\") #เว้นบรรทัดเพื่อความสบายตา\n",
    "print(\"The GOOD password is have least 8 characters long and contains \\nat least one uppercase letter, at least one lowercase letter, and at least one number. \")\n",
    "print(\"\\n\") #เว้นบรรทัดเพื่อความสบายตา\n",
    "\n",
    "password = str(input(\"Please Enter the password : \")) #แปลงเป็น str\n",
    "\n",
    "def check_password(n):\n",
    "    if len(password) < 8 :  #check ว่า password มีความยาวถึง 8 ตัวมั้ย  \n",
    "        print(\"Your password must be 8 characters long.\")\n",
    "        return False\n",
    "    \n",
    "    elif re.search(\"[ก-๙]\",password): #[ก-๙] เป็น bracket expression คือค้นหาได้พยัญชนะ สระ และตัวเลขไทย ทั้งหมดเลย\n",
    "        print(\"Your password must be English alphabet only!\") \n",
    "        return False\n",
    "    \n",
    "    elif re.search(\"[@#$%^&+=_-]\",password): \n",
    "        print(\"Your password must not have special letter!\") \n",
    "        return False\n",
    "    \n",
    "    elif not re.search(\"[A-Z]\",password): #[A-Z] เป็น bracket expression คือค้นหาได้ทุกตัวตั้งแต่ A ถึง Z\n",
    "        print(\"Your password must have uppercase letter.\")\n",
    "        return False\n",
    "    \n",
    "    elif not re.search(\"[a-z]\",password): #[a-z] เป็น bracket expression คือค้นหาได้ทุกตัวตั้งแต่ a ถึง z\n",
    "        print(\"Your password must have lowercase letter.\")\n",
    "        return False\n",
    "    \n",
    "    elif not re.search(\"[0-9]\",password): #[0-9] เป็น bracket expression คือค้นหาได้ทุกตัวตั้งแต่ 0 ถึง 9\n",
    "        print(\"Your password must have number.\")\n",
    "        return False\n",
    "    \n",
    "    else:\n",
    "        print(\"The password is GOOD!\")\n",
    "        return True\n",
    "\n",
    "check_password(password)"
   ]
  },
  {
   "cell_type": "markdown",
   "metadata": {},
   "source": [
    "---"
   ]
  }
 ],
 "metadata": {
  "kernelspec": {
   "display_name": "Python 3",
   "language": "python",
   "name": "python3"
  },
  "language_info": {
   "codemirror_mode": {
    "name": "ipython",
    "version": 3
   },
   "file_extension": ".py",
   "mimetype": "text/x-python",
   "name": "python",
   "nbconvert_exporter": "python",
   "pygments_lexer": "ipython3",
   "version": "3.8.8"
  }
 },
 "nbformat": 4,
 "nbformat_minor": 2
}
