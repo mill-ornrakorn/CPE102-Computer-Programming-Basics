{
 "cells": [
  {
   "cell_type": "markdown",
   "metadata": {},
   "source": [
    "## <center>CPE102 Computer Programming Basics</center>\n",
    "# <center>Lab 10 - NumPy and Matplotlib</center>\n",
    "---"
   ]
  },
  {
   "cell_type": "markdown",
   "metadata": {},
   "source": [
    "### NumPy array"
   ]
  },
  {
   "cell_type": "code",
   "execution_count": 22,
   "metadata": {},
   "outputs": [
    {
     "name": "stdout",
     "output_type": "stream",
     "text": [
      "[20.1 20.8 21.9 22.5 22.7 22.3 21.8 21.2 20.9 20.1]\n"
     ]
    }
   ],
   "source": [
    "import numpy as np  #ให้ numpy มีตัวย่อเป็น np \n",
    "\n",
    "cvalues = [20.1, 20.8, 21.9, 22.5, 22.7, \n",
    "           22.3, 21.8, 21.2, 20.9, 20.1]\n",
    "\n",
    "C = np.array(cvalues)  #ไม่มี  ,  \n",
    "print(C) # print ออกมาเป็นแถวระเบียบร้อย"
   ]
  },
  {
   "cell_type": "markdown",
   "metadata": {},
   "source": [
    "### Vector operation"
   ]
  },
  {
   "cell_type": "code",
   "execution_count": 2,
   "metadata": {},
   "outputs": [
    {
     "name": "stdout",
     "output_type": "stream",
     "text": [
      "[68.18 69.44 71.42 72.5  72.86 72.14 71.24 70.16 69.62 68.18]\n"
     ]
    }
   ],
   "source": [
    "print( C*9/5 + 32)"
   ]
  },
  {
   "cell_type": "markdown",
   "metadata": {},
   "source": [
    "### Comparison to core Python"
   ]
  },
  {
   "cell_type": "code",
   "execution_count": 3,
   "metadata": {},
   "outputs": [
    {
     "name": "stdout",
     "output_type": "stream",
     "text": [
      "[68.18, 69.44, 71.42, 72.5, 72.86, 72.14, 71.24000000000001, 70.16, 69.62, 68.18]\n"
     ]
    }
   ],
   "source": [
    "fvalues = [ x*9/5 + 32 for x in cvalues]\n",
    "print(fvalues)"
   ]
  },
  {
   "cell_type": "markdown",
   "metadata": {},
   "source": [
    "### numpy.ndarray"
   ]
  },
  {
   "cell_type": "code",
   "execution_count": 4,
   "metadata": {},
   "outputs": [
    {
     "data": {
      "text/plain": [
       "numpy.ndarray"
      ]
     },
     "execution_count": 4,
     "metadata": {},
     "output_type": "execute_result"
    }
   ],
   "source": [
    "type(C)"
   ]
  },
  {
   "cell_type": "markdown",
   "metadata": {},
   "source": [
    "### Graphical representation of  the values"
   ]
  },
  {
   "cell_type": "code",
   "execution_count": 6,
   "metadata": {},
   "outputs": [
    {
     "data": {
      "image/png": "[encoded data removed]",
      "text/plain": [
       "<Figure size 432x288 with 1 Axes>"
      ]
     },
     "metadata": {
      "needs_background": "light"
     },
     "output_type": "display_data"
    }
   ],
   "source": [
    "import matplotlib.pyplot as plt\n",
    "plt.plot(C)\n",
    "plt.show()"
   ]
  },
  {
   "cell_type": "markdown",
   "metadata": {},
   "source": [
    "### Creating arrays arange"
   ]
  },
  {
   "cell_type": "code",
   "execution_count": 7,
   "metadata": {},
   "outputs": [
    {
     "name": "stdout",
     "output_type": "stream",
     "text": [
      "[ 0.  1.  2.  3.  4.  5.  6.  7.  8.  9. 10.]\n"
     ]
    }
   ],
   "source": [
    "x = np.arange(10.4)  #สร้างอาเรย์หนึ่งมิติที่มีเลขเรียงกัน\n",
    "print(x)"
   ]
  },
  {
   "cell_type": "code",
   "execution_count": 15,
   "metadata": {},
   "outputs": [
    {
     "name": "stdout",
     "output_type": "stream",
     "text": [
      "[1.5 3.5 5.5 7.5]\n"
     ]
    }
   ],
   "source": [
    "print(np.arange(1.5,8,2))  # (จุดเริ่ม, จุดปลาย, เพิ่มทีละ) #อาร์กิวเมนต์ที่ใช้เหมือนกับ range แต่ไม่จำเป็นต้องเป็นจำนวนจริง"
   ]
  },
  {
   "cell_type": "code",
   "execution_count": 8,
   "metadata": {},
   "outputs": [
    {
     "name": "stdout",
     "output_type": "stream",
     "text": [
      "[ 0.5  1.3  2.1  2.9  3.7  4.5  5.3  6.1  6.9  7.7  8.5  9.3 10.1]\n"
     ]
    }
   ],
   "source": [
    "x = np.arange(0.5, 10.4, 0.8) # (จุดเริ่ม, จุดปลาย, เพิ่มทีละ)\n",
    "print(x)"
   ]
  },
  {
   "cell_type": "code",
   "execution_count": 9,
   "metadata": {},
   "outputs": [
    {
     "name": "stdout",
     "output_type": "stream",
     "text": [
      "[ 0  1  2  3  4  5  6  7  8  9 10 11 12]\n"
     ]
    }
   ],
   "source": [
    "x = np.arange(0.5, 10.4, 0.8, int) # (จุดเริ่ม, จุดปลาย, เพิ่มทีละ,ทำให้เป็นint)\n",
    "print(x)"
   ]
  },
  {
   "cell_type": "markdown",
   "metadata": {},
   "source": [
    "### Creating arrays linspace"
   ]
  },
  {
   "cell_type": "code",
   "execution_count": 18,
   "metadata": {},
   "outputs": [
    {
     "name": "stdout",
     "output_type": "stream",
     "text": [
      "[ 1.   2.5  4.   5.5  7.   8.5 10. ]\n"
     ]
    }
   ],
   "source": [
    "#np.linspace = สร้างอาเรย์หนึ่งมิติตามจำนวนที่กำหนดโดยเว้นช่วงเท่าๆกัน\n",
    "    \n",
    "print(np.linspace(1, 10, 7)) # (จุดเริ่ม, จุดปลาย, จำนวน)\n"
   ]
  },
  {
   "cell_type": "code",
   "execution_count": 23,
   "metadata": {},
   "outputs": [
    {
     "name": "stdout",
     "output_type": "stream",
     "text": [
      "[ 1.          1.47368421  1.94736842  2.42105263  2.89473684  3.36842105\n",
      "  3.84210526  4.31578947  4.78947368  5.26315789  5.73684211  6.21052632\n",
      "  6.68421053  7.15789474  7.63157895  8.10526316  8.57894737  9.05263158\n",
      "  9.52631579 10.        ]\n"
     ]
    }
   ],
   "source": [
    "samples, spacing = np.linspace(1, 10, 20, endpoint=True, retstep=True) \n",
    "\n",
    "#retstep If True, return (samples, step). By deflut restep = False\n",
    "#endpoint=Trueรวมเลขจุดปลาย ถ้า endpoint=0 จะหมายความว่าไม่รวมเลขจุดปลาย\n",
    "\n",
    "print(samples)"
   ]
  },
  {
   "cell_type": "code",
   "execution_count": 22,
   "metadata": {},
   "outputs": [
    {
     "name": "stdout",
     "output_type": "stream",
     "text": [
      "0.47368421052631576\n"
     ]
    }
   ],
   "source": [
    "print(spacing)"
   ]
  },
  {
   "cell_type": "markdown",
   "metadata": {},
   "source": [
    "### Creating ones and zeros arrays"
   ]
  },
  {
   "cell_type": "code",
   "execution_count": 25,
   "metadata": {},
   "outputs": [
    {
     "data": {
      "text/plain": [
       "array([[1., 1.],\n",
       "       [1., 1.],\n",
       "       [1., 1.]])"
      ]
     },
     "execution_count": 25,
     "metadata": {},
     "output_type": "execute_result"
    }
   ],
   "source": [
    "#สร้างอาเรย์ที่มีแต่เลข 1 ตามขนาดที่กำหนด\n",
    "#กรณีสร้างสองมิติขึ้นไปต้องใส่เป็นลิสต์หรือทูเพิล\n",
    "\n",
    "np.ones((3,2)) # 3 แถว 2หลัก"
   ]
  },
  {
   "cell_type": "code",
   "execution_count": 26,
   "metadata": {},
   "outputs": [
    {
     "data": {
      "text/plain": [
       "array([[0., 0., 0., 0.],\n",
       "       [0., 0., 0., 0.]])"
      ]
     },
     "execution_count": 26,
     "metadata": {},
     "output_type": "execute_result"
    }
   ],
   "source": [
    "#สร้างอาเรย์ที่มีแต่เลข 0 ตามขนาดที่กำหนด\n",
    "\n",
    "np.zeros((2,4)) # 2 แถว 4หลัก"
   ]
  },
  {
   "cell_type": "markdown",
   "metadata": {},
   "source": [
    "#### Challenge: Numerical ranges\n",
    "Create a 1-D array of 50 evenly spaced elements between 3. and 10., inclusive.\n",
    "\n",
    "-สร้าง array 50ตัว เริ่มจาก 3 ไป10 โดยเว้นระยะเท่ากัน"
   ]
  },
  {
   "cell_type": "code",
   "execution_count": 27,
   "metadata": {},
   "outputs": [
    {
     "name": "stdout",
     "output_type": "stream",
     "text": [
      "[ 3.          3.14285714  3.28571429  3.42857143  3.57142857  3.71428571\n",
      "  3.85714286  4.          4.14285714  4.28571429  4.42857143  4.57142857\n",
      "  4.71428571  4.85714286  5.          5.14285714  5.28571429  5.42857143\n",
      "  5.57142857  5.71428571  5.85714286  6.          6.14285714  6.28571429\n",
      "  6.42857143  6.57142857  6.71428571  6.85714286  7.          7.14285714\n",
      "  7.28571429  7.42857143  7.57142857  7.71428571  7.85714286  8.\n",
      "  8.14285714  8.28571429  8.42857143  8.57142857  8.71428571  8.85714286\n",
      "  9.          9.14285714  9.28571429  9.42857143  9.57142857  9.71428571\n",
      "  9.85714286 10.        ]\n"
     ]
    }
   ],
   "source": [
    "#np.linspace = สร้างอาเรย์หนึ่งมิติตามจำนวนที่กำหนดโดยเว้นช่วงเท่าๆกัน\n",
    "\n",
    "x = np.linspace(3, 10, 50)  # (จุดเริ่ม, จุดปลาย, จำนวน)\n",
    "print(x)"
   ]
  },
  {
   "cell_type": "markdown",
   "metadata": {},
   "source": [
    "### 1-D arrays -1มิติ"
   ]
  },
  {
   "cell_type": "code",
   "execution_count": 28,
   "metadata": {},
   "outputs": [],
   "source": [
    "F = np.array([1,1,2,3,5,8,13,21]) \n",
    "V = np.array([3.4, 6.9, 99.8, 12.8]) \n",
    "\n",
    "#ไม่มี , "
   ]
  },
  {
   "cell_type": "code",
   "execution_count": 29,
   "metadata": {},
   "outputs": [
    {
     "name": "stdout",
     "output_type": "stream",
     "text": [
      "F:  [ 1  1  2  3  5  8 13 21]\n",
      "V:  [ 3.4  6.9 99.8 12.8]\n"
     ]
    }
   ],
   "source": [
    "print(\"F: \", F)\n",
    "print(\"V: \", V) "
   ]
  },
  {
   "cell_type": "code",
   "execution_count": 30,
   "metadata": {},
   "outputs": [
    {
     "name": "stdout",
     "output_type": "stream",
     "text": [
      "Type of F:  int32\n",
      "Type of V:  float64\n"
     ]
    }
   ],
   "source": [
    "#ชนิดของข้อมูลในอาเรย์\n",
    "print(\"Type of F: \", F.dtype)\n",
    "print(\"Type of V: \", V.dtype)"
   ]
  },
  {
   "cell_type": "markdown",
   "metadata": {},
   "source": [
    "โดยเลข 32 ใน int32 นี้บอกถึงขนาดของหน่วยความจำเป็นบิตที่ใช้ในการเก็บตัวเลข\n",
    "\n",
    "นอกจาก int32 แล้วก็ยังมี int8 int16 int64  และ float เองก็มีแบ่งเช่นกัน"
   ]
  },
  {
   "cell_type": "code",
   "execution_count": 31,
   "metadata": {},
   "outputs": [
    {
     "name": "stdout",
     "output_type": "stream",
     "text": [
      "Dimension of F:  1\n",
      "Dimension of V:  1\n"
     ]
    }
   ],
   "source": [
    "#จำนวนมิติของอาเรย์\n",
    "print(\"Dimension of F: \", np.ndim(F))\n",
    "print(\"Dimension of V: \", np.ndim(V))"
   ]
  },
  {
   "cell_type": "markdown",
   "metadata": {},
   "source": [
    "FและV เป็น 1 มิติ"
   ]
  },
  {
   "cell_type": "markdown",
   "metadata": {},
   "source": [
    "### 2-D and multidimensional arrays"
   ]
  },
  {
   "cell_type": "code",
   "execution_count": 36,
   "metadata": {},
   "outputs": [
    {
     "name": "stdout",
     "output_type": "stream",
     "text": [
      "[[ 3.4  8.7  9.9]\n",
      " [ 1.1 -7.8 -0.7]\n",
      " [ 4.1 12.3  4.8]]\n",
      "Number of Dimensions:  2\n",
      "Dimensions:  (3, 3)\n"
     ]
    }
   ],
   "source": [
    "A = np.array([[3.4, 8.7, 9.9],\n",
    "              [1.1, -7.8, -0.7],\n",
    "              [4.1, 12.3, 4.8]])  #ไม่มี ,\n",
    "\n",
    "print(A) \n",
    "\n",
    "#ndim = จำนวนมิติของอาเรย์\n",
    "print(\"Number of Dimensions: \",A.ndim) #2 มิติ\n",
    "\n",
    "#shape = รูปร่างของอาเรย์\n",
    "print(\"Dimensions: \", A.shape)   #เป็นขนาด 3x3"
   ]
  },
  {
   "cell_type": "code",
   "execution_count": 37,
   "metadata": {},
   "outputs": [
    {
     "name": "stdout",
     "output_type": "stream",
     "text": [
      "[[[111 112]\n",
      "  [121 122]]\n",
      "\n",
      " [[211 212]\n",
      "  [221 222]]\n",
      "\n",
      " [[311 312]\n",
      "  [321 322]]]\n",
      "Number of Dimensions:  3\n",
      "Dimensions:  (3, 2, 2)\n"
     ]
    }
   ],
   "source": [
    "B = np.array([[[111,112],[121,122]],\n",
    "              [[211,212],[221,222]],\n",
    "              [[311,312],[321,322]]])  #ไม่มี ,\n",
    "print(B)\n",
    "\n",
    "#ndim = จำนวนมิติของอาเรย์\n",
    "print(\"Number of Dimensions: \",B.ndim) #3 มิติ\n",
    "\n",
    "#shape = รูปร่างของอาเรย์\n",
    "print(\"Dimensions: \", B.shape) # 3 แถว 2หลัก โดยในช่องมี2จำนวน"
   ]
  },
  {
   "cell_type": "markdown",
   "metadata": {},
   "source": [
    "### Shape - examples"
   ]
  },
  {
   "cell_type": "code",
   "execution_count": 40,
   "metadata": {},
   "outputs": [
    {
     "name": "stdout",
     "output_type": "stream",
     "text": [
      "[[67 63 87]\n",
      " [77 69 59]\n",
      " [85 87 99]\n",
      " [79 72 71]\n",
      " [63 89 93]\n",
      " [68 92 78]]\n",
      "Dimension of x: (6, 3)\n"
     ]
    }
   ],
   "source": [
    "x = np.array([[67, 63, 87],\n",
    "              [77, 69, 59],\n",
    "              [85, 87, 99],\n",
    "              [79, 72, 71],\n",
    "              [63, 89, 93],\n",
    "              [68, 92, 78]])\n",
    "print(x)\n",
    "\n",
    "print(\"Dimension of x:\", np.shape(x)) # 6 แถว 3หลัก"
   ]
  },
  {
   "cell_type": "code",
   "execution_count": 42,
   "metadata": {},
   "outputs": [
    {
     "name": "stdout",
     "output_type": "stream",
     "text": [
      "(6, 3)\n"
     ]
    }
   ],
   "source": [
    "# Equivalently\n",
    "print(x.shape)"
   ]
  },
  {
   "cell_type": "markdown",
   "metadata": {},
   "source": [
    "### Changing shape"
   ]
  },
  {
   "cell_type": "code",
   "execution_count": 47,
   "metadata": {},
   "outputs": [],
   "source": [
    "x.shape = (3,6) #เปลี่ยนให้เป็น  3 แถว 6หลัก"
   ]
  },
  {
   "cell_type": "code",
   "execution_count": 46,
   "metadata": {},
   "outputs": [
    {
     "name": "stdout",
     "output_type": "stream",
     "text": [
      "[[67 63 87 77 69 59]\n",
      " [85 87 99 79 72 71]\n",
      " [63 89 93 68 92 78]]\n"
     ]
    }
   ],
   "source": [
    "print(x)"
   ]
  },
  {
   "cell_type": "markdown",
   "metadata": {},
   "source": [
    "### Indexing"
   ]
  },
  {
   "cell_type": "code",
   "execution_count": 50,
   "metadata": {},
   "outputs": [
    {
     "name": "stdout",
     "output_type": "stream",
     "text": [
      "[[13 14 15]\n",
      " [23 24 25]\n",
      " [33 34 35]]\n"
     ]
    }
   ],
   "source": [
    "A = np.array([\n",
    "    [11,12,13,14,15],\n",
    "    [21,22,23,24,25],\n",
    "    [31,32,33,34,35],\n",
    "    [41,42,43,44,45],\n",
    "    [51,52,53,54,55]\n",
    "])  #ไม่มี ,\n",
    "\n",
    "print(A[:3,2:]) #เอาเฉพาะหลักที่ 3 ถึง แถวที่2+1"
   ]
  },
  {
   "cell_type": "markdown",
   "metadata": {},
   "source": [
    "### Slide 24: Numerical operations on NumPy array"
   ]
  },
  {
   "cell_type": "code",
   "execution_count": 52,
   "metadata": {},
   "outputs": [
    {
     "name": "stdout",
     "output_type": "stream",
     "text": [
      "[ 3  4  7 12]\n"
     ]
    }
   ],
   "source": [
    "lst = [1,2,5,10]\n",
    "v = np.array(lst) #ไม่มี ,\n",
    "v = v + 2  \n",
    "print(v)"
   ]
  },
  {
   "cell_type": "code",
   "execution_count": 53,
   "metadata": {},
   "outputs": [
    {
     "name": "stdout",
     "output_type": "stream",
     "text": [
      "[ 6.6  8.8 15.4 26.4]\n"
     ]
    }
   ],
   "source": [
    "print(v * 2.2)"
   ]
  },
  {
   "cell_type": "code",
   "execution_count": 54,
   "metadata": {},
   "outputs": [
    {
     "name": "stdout",
     "output_type": "stream",
     "text": [
      "[ 1.62  2.62  5.62 10.62]\n"
     ]
    }
   ],
   "source": [
    "print(v - 1.38)"
   ]
  },
  {
   "cell_type": "code",
   "execution_count": 55,
   "metadata": {},
   "outputs": [
    {
     "name": "stdout",
     "output_type": "stream",
     "text": [
      "[  9  16  49 144]\n"
     ]
    }
   ],
   "source": [
    "print(v ** 2)"
   ]
  },
  {
   "cell_type": "markdown",
   "metadata": {},
   "source": [
    "### Arithmetic operations with two arrays"
   ]
  },
  {
   "cell_type": "code",
   "execution_count": 80,
   "metadata": {},
   "outputs": [
    {
     "name": "stdout",
     "output_type": "stream",
     "text": [
      "[[11 12 13]\n",
      " [21 22 23]\n",
      " [31 32 33]]\n",
      "----------------------------------------\n",
      "[[1. 1. 1.]\n",
      " [1. 1. 1.]\n",
      " [1. 1. 1.]]\n"
     ]
    }
   ],
   "source": [
    "A = np.array([[11, 12, 13],\n",
    "              [21, 22, 23],\n",
    "              [31, 32, 33]])  #ไม่มี ,\n",
    "\n",
    "B = np.ones((3,3)) #สร้างอาเรย์ที่มีแต่เลข 1 ขนาด3*3\n",
    "\n",
    "print(A)\n",
    "print(\"-\"*40) #เว้นเพื่อความดูง่าย\n",
    "print(B)"
   ]
  },
  {
   "cell_type": "code",
   "execution_count": 81,
   "metadata": {},
   "outputs": [
    {
     "name": "stdout",
     "output_type": "stream",
     "text": [
      "Adding to arrays:\n",
      "[[12. 13. 14.]\n",
      " [22. 23. 24.]\n",
      " [32. 33. 34.]]\n"
     ]
    }
   ],
   "source": [
    "print(\"Adding to arrays:\")\n",
    "print(A + B)"
   ]
  },
  {
   "cell_type": "code",
   "execution_count": 82,
   "metadata": {},
   "outputs": [
    {
     "name": "stdout",
     "output_type": "stream",
     "text": [
      "\n",
      "Multiplying two arrays:\n",
      "[[22. 24. 26.]\n",
      " [42. 44. 46.]\n",
      " [62. 64. 66.]]\n"
     ]
    }
   ],
   "source": [
    "print(\"\\nMultiplying two arrays:\")\n",
    "print(A * (B + 1))"
   ]
  },
  {
   "cell_type": "markdown",
   "metadata": {},
   "source": [
    "### Matrix multiplication"
   ]
  },
  {
   "cell_type": "code",
   "execution_count": 85,
   "metadata": {},
   "outputs": [
    {
     "name": "stdout",
     "output_type": "stream",
     "text": [
      "[[36. 36. 36.]\n",
      " [66. 66. 66.]\n",
      " [96. 96. 96.]]\n"
     ]
    }
   ],
   "source": [
    "print(np.dot(A,B)) #dot product(คูณเมทริกซ์) ระหว่าง A กับ B"
   ]
  },
  {
   "cell_type": "markdown",
   "metadata": {},
   "source": [
    "### Definition of dot product"
   ]
  },
  {
   "cell_type": "code",
   "execution_count": 69,
   "metadata": {},
   "outputs": [
    {
     "name": "stdout",
     "output_type": "stream",
     "text": [
      "-14\n"
     ]
    }
   ],
   "source": [
    "# For 1-D arrays, dot product is computed as vector dot product\n",
    "x = np.array([3, -2])  #ไม่มี ,\n",
    "y = np.array([-4, 1])  #ไม่มี ,\n",
    "\n",
    "print(np.dot(x,y)) #dot product(คูณเมทริกซ์) ระหว่าง x กับ y"
   ]
  },
  {
   "cell_type": "code",
   "execution_count": 86,
   "metadata": {},
   "outputs": [
    {
     "name": "stdout",
     "output_type": "stream",
     "text": [
      "[[7 7]\n",
      " [9 9]]\n"
     ]
    }
   ],
   "source": [
    "# For 2-D arrays, dot product is computed as matrix multiplication\n",
    "P = np.array([[1, 2, 3],\n",
    "              [3, 2, 1]])  #ไม่มี ,\n",
    "Q = np.array([[2, 3],\n",
    "              [1, -1],\n",
    "              [1, 2]])  #ไม่มี ,\n",
    "\n",
    "print(np.dot(P,Q)) #dot product(คูณเมทริกซ์) ระหว่าง P กับ Q"
   ]
  },
  {
   "cell_type": "markdown",
   "metadata": {},
   "source": [
    "Dot product is basically a projection/elemination of one dimension out."
   ]
  },
  {
   "cell_type": "markdown",
   "metadata": {},
   "source": [
    "### Comparison operator"
   ]
  },
  {
   "cell_type": "code",
   "execution_count": 89,
   "metadata": {},
   "outputs": [
    {
     "name": "stdout",
     "output_type": "stream",
     "text": [
      "[[ True False  True]\n",
      " [False  True False]\n",
      " [ True  True False]]\n"
     ]
    }
   ],
   "source": [
    "D = np.array([[11, 12, 13],\n",
    "              [21, 22, 23],\n",
    "              [31, 32, 33]]) #ไม่มี ,\n",
    "C = np.array([[11, 102, 13],\n",
    "              [201, 22, 203],\n",
    "              [31, 32, 303]]) #ไม่มี ,\n",
    "\n",
    "print(D == C) #check ว่าสมาชิกตัวไหนของ D และ C มีตัวไหนเหมือนกัน โดยแสดงในรูปแบบ True False"
   ]
  },
  {
   "cell_type": "markdown",
   "metadata": {},
   "source": [
    "### Compare two arrays"
   ]
  },
  {
   "cell_type": "code",
   "execution_count": 90,
   "metadata": {},
   "outputs": [
    {
     "name": "stdout",
     "output_type": "stream",
     "text": [
      "False\n"
     ]
    }
   ],
   "source": [
    "print(np.array_equal(D, C))  #เปรียบเทียบว่า D เท่ากัน C มั้ย โดยแสดงในรูปแบบ True False"
   ]
  },
  {
   "cell_type": "code",
   "execution_count": 91,
   "metadata": {},
   "outputs": [
    {
     "name": "stdout",
     "output_type": "stream",
     "text": [
      "True\n"
     ]
    }
   ],
   "source": [
    "print(np.array_equal(D, D)) #เปรียบเทียบว่า D เท่ากัน C มั้ย โดยแสดงในรูปแบบ True False"
   ]
  },
  {
   "cell_type": "markdown",
   "metadata": {},
   "source": [
    "### Slide 31: Broadcasting"
   ]
  },
  {
   "cell_type": "code",
   "execution_count": 98,
   "metadata": {},
   "outputs": [
    {
     "name": "stdout",
     "output_type": "stream",
     "text": [
      "Multiplication with broadcasting: \n",
      "[[11 24 39]\n",
      " [21 44 69]\n",
      " [31 64 99]]\n"
     ]
    }
   ],
   "source": [
    "G = np.array([[11, 12, 13],\n",
    "              [21, 22, 23],\n",
    "              [31, 32, 33]])\n",
    "H = np.array([1, 2, 3])\n",
    "\n",
    "print(\"Multiplication with broadcasting: \")\n",
    "print(G*H)  #ทำการการคูณ G และ H\n",
    "\n",
    "# H =  [[1 2 3]\n",
    "#       [1 2 3]\n",
    "#       [1 2 3]]"
   ]
  },
  {
   "cell_type": "code",
   "execution_count": 99,
   "metadata": {},
   "outputs": [
    {
     "name": "stdout",
     "output_type": "stream",
     "text": [
      "... and now addition with broadcasting: \n",
      "[[12 14 16]\n",
      " [22 24 26]\n",
      " [32 34 36]]\n"
     ]
    }
   ],
   "source": [
    "print(\"... and now addition with broadcasting: \")\n",
    "print(G+H)\n",
    "\n",
    "# H =  [[1 2 3]\n",
    "#       [1 2 3]\n",
    "#       [1 2 3]]"
   ]
  },
  {
   "cell_type": "markdown",
   "metadata": {},
   "source": [
    "### Concatenating arrays"
   ]
  },
  {
   "cell_type": "code",
   "execution_count": 108,
   "metadata": {},
   "outputs": [
    {
     "name": "stdout",
     "output_type": "stream",
     "text": [
      "[11 22 18  7  6  1  3  5]\n"
     ]
    }
   ],
   "source": [
    "K = np.array([11,22])\n",
    "M = np.array([18,7,6])\n",
    "N = np.array([1,3,5])\n",
    "#ไม่มี ,\n",
    "\n",
    "O = np.concatenate((K,M,N)) #เอาทั้ง K,M,N มาต่อกันใน array เดียวกัน\n",
    "print(O)"
   ]
  },
  {
   "cell_type": "markdown",
   "metadata": {},
   "source": [
    "### Vector stacking"
   ]
  },
  {
   "cell_type": "code",
   "execution_count": 104,
   "metadata": {},
   "outputs": [
    {
     "name": "stdout",
     "output_type": "stream",
     "text": [
      "[[3 4 5]\n",
      " [1 9 0]]\n"
     ]
    }
   ],
   "source": [
    "R = np.array([3, 4, 5])\n",
    "S = np.array([1, 9, 0]) \n",
    "#ไม่มี ,\n",
    "\n",
    "print(np.row_stack((R, S))) #เอาทั้ง R,S มาเรียงให้เป็นแถว"
   ]
  },
  {
   "cell_type": "code",
   "execution_count": 106,
   "metadata": {},
   "outputs": [
    {
     "name": "stdout",
     "output_type": "stream",
     "text": [
      "[[3 1]\n",
      " [4 9]\n",
      " [5 0]]\n"
     ]
    }
   ],
   "source": [
    "print(np.column_stack((R, S))) #เอาทั้ง R,S มาเรียงให้เป็นหลัก"
   ]
  },
  {
   "cell_type": "code",
   "execution_count": 110,
   "metadata": {},
   "outputs": [
    {
     "name": "stdout",
     "output_type": "stream",
     "text": [
      "(3,)\n"
     ]
    }
   ],
   "source": [
    "print(np.shape(R)) #รูปร่างของ R"
   ]
  },
  {
   "cell_type": "markdown",
   "metadata": {},
   "source": [
    "#### Challenge: Vector stacking\n",
    "Let x2 be an array [1,2,3] and y2 be [4, 5, 6]. Create [[1, 4], [2, 5], [3, 6]]."
   ]
  },
  {
   "cell_type": "code",
   "execution_count": 123,
   "metadata": {},
   "outputs": [
    {
     "name": "stdout",
     "output_type": "stream",
     "text": [
      "[[1 4]\n",
      " [2 5]\n",
      " [3 6]]\n"
     ]
    }
   ],
   "source": [
    "x2 = np.array([1,2,3]) #ไม่มี ,\n",
    "y2 = np.array([4, 5, 6]) #ไม่มี ,\n",
    "\n",
    "print(np.stack((x2, y2), axis=1))\n",
    "\n",
    "#axis = 0 คือแถว, axis = 1 คือคอลัมน์ (หลัก)"
   ]
  },
  {
   "cell_type": "markdown",
   "metadata": {},
   "source": [
    "### Vector addition and subtraction"
   ]
  },
  {
   "cell_type": "code",
   "execution_count": 127,
   "metadata": {},
   "outputs": [
    {
     "name": "stdout",
     "output_type": "stream",
     "text": [
      "[8 3]\n"
     ]
    }
   ],
   "source": [
    "T = np.array([3,2]) #ไม่มี ,\n",
    "U = np.array([5,1]) #ไม่มี ,\n",
    "V = T + U\n",
    "\n",
    "print(V)"
   ]
  },
  {
   "cell_type": "markdown",
   "metadata": {},
   "source": [
    "### Dot product"
   ]
  },
  {
   "cell_type": "code",
   "execution_count": 5,
   "metadata": {},
   "outputs": [
    {
     "name": "stdout",
     "output_type": "stream",
     "text": [
      "36\n"
     ]
    }
   ],
   "source": [
    "L = np.array([1, 2, 3]) #ไม่มี ,\n",
    "W = np.array([-7, 8, 9]) #ไม่มี ,\n",
    "\n",
    "print(np.dot(L, W))  #แสดงผล Dot product(คูณเมทริกซ์) ระหว่าง L กับ W"
   ]
  },
  {
   "cell_type": "markdown",
   "metadata": {},
   "source": [
    "### Reading and writing data files"
   ]
  },
  {
   "cell_type": "code",
   "execution_count": 14,
   "metadata": {},
   "outputs": [],
   "source": [
    "J2 = np.array([[1,2,3],\n",
    "              [4,5,6],\n",
    "              [7,8,9]], np.int32)\n",
    "\n",
    "\n",
    "np.savetxt(\"test.txt\",J2)"
   ]
  },
  {
   "cell_type": "markdown",
   "metadata": {},
   "source": [
    "### Save formatted output"
   ]
  },
  {
   "cell_type": "code",
   "execution_count": 17,
   "metadata": {},
   "outputs": [],
   "source": [
    "np.savetxt(\"test2.txt\",J2,fmt=\"%2.3f\",delimiter=\",\")\n",
    "np.savetxt(\"test3.txt\",J2,fmt=\"%04d\",delimiter=\" :-) \")"
   ]
  },
  {
   "cell_type": "markdown",
   "metadata": {},
   "source": [
    "### Load textfiles with loadtxt"
   ]
  },
  {
   "cell_type": "code",
   "execution_count": 15,
   "metadata": {},
   "outputs": [
    {
     "name": "stdout",
     "output_type": "stream",
     "text": [
      "[[1. 2. 3.]\n",
      " [4. 5. 6.]\n",
      " [7. 8. 9.]]\n"
     ]
    }
   ],
   "source": [
    "Y = np.loadtxt(\"test.txt\")\n",
    "print(Y)"
   ]
  },
  {
   "cell_type": "code",
   "execution_count": 16,
   "metadata": {},
   "outputs": [
    {
     "name": "stdout",
     "output_type": "stream",
     "text": [
      "[[1. 2. 3.]\n",
      " [4. 5. 6.]\n",
      " [7. 8. 9.]]\n"
     ]
    }
   ],
   "source": [
    "Y1 = np.loadtxt(\"test2.txt\", delimiter=\",\")\n",
    "print(Y1)"
   ]
  },
  {
   "cell_type": "markdown",
   "metadata": {},
   "source": [
    "### Simple graph"
   ]
  },
  {
   "cell_type": "code",
   "execution_count": 21,
   "metadata": {},
   "outputs": [
    {
     "data": {
      "image/png": "[encoded data removed]",
      "text/plain": [
       "<Figure size 432x288 with 1 Axes>"
      ]
     },
     "metadata": {
      "needs_background": "light"
     },
     "output_type": "display_data"
    }
   ],
   "source": [
    "import matplotlib.pyplot as plt  #ให้ matplotlib.pyplot มีตัวย่อเป็น plt\n",
    "plt.plot([-1, -4.5, 16, 23])\n",
    "plt.show()"
   ]
  },
  {
   "cell_type": "markdown",
   "metadata": {},
   "source": [
    "### Marker"
   ]
  },
  {
   "cell_type": "code",
   "execution_count": 24,
   "metadata": {
    "scrolled": true
   },
   "outputs": [
    {
     "data": {
      "image/png": "[encoded data removed]",
      "text/plain": [
       "<Figure size 432x288 with 1 Axes>"
      ]
     },
     "metadata": {
      "needs_background": "light"
     },
     "output_type": "display_data"
    }
   ],
   "source": [
    "plt.plot([-1, -4.5, 16, 23], \"ob\")   #o = จุดกลมๆ  b = สีฟ้า\n",
    "plt.show() #แสดงผล"
   ]
  },
  {
   "cell_type": "markdown",
   "metadata": {},
   "source": [
    "### Labels on axes"
   ]
  },
  {
   "cell_type": "code",
   "execution_count": 26,
   "metadata": {},
   "outputs": [
    {
     "data": {
      "image/png": "[encoded data removed]",
      "text/plain": [
       "<Figure size 432x288 with 1 Axes>"
      ]
     },
     "metadata": {
      "needs_background": "light"
     },
     "output_type": "display_data"
    }
   ],
   "source": [
    "days = np.arange(1, 9)  # (จุดเริ่ม, จุดปลาย, เพิ่มทีละ)  #สร้างอาเรย์หนึ่งมิติที่มีเลขเรียงกัน\n",
    "celsius_values = [25.6, 24.1, 26.7, 28.3,\n",
    "                  27.5, 30.5, 32.8, 33.1]\n",
    "\n",
    "plt.plot(days, celsius_values) #plt.plot(x,y) ให้ x = days และ y = celsius_values\n",
    "plt.xlabel('Day') #กำหนดให้แกน x มีชื่อว่า Day\n",
    "plt.ylabel('Degrees Celsius') #กำหนดให้แกน x มีชื่อว่า Degrees Celsius\n",
    "plt.show() #แสดงผล"
   ]
  },
  {
   "cell_type": "markdown",
   "metadata": {},
   "source": [
    "### More format"
   ]
  },
  {
   "cell_type": "code",
   "execution_count": 36,
   "metadata": {},
   "outputs": [
    {
     "data": {
      "image/png": "[encoded data removed]",
      "text/plain": [
       "<Figure size 432x288 with 1 Axes>"
      ]
     },
     "metadata": {
      "needs_background": "light"
     },
     "output_type": "display_data"
    }
   ],
   "source": [
    "days = np.arange(1,9) # (จุดเริ่ม, จุดปลาย, เพิ่มทีละ)  #สร้างอาเรย์หนึ่งมิติที่มีเลขเรียงกัน\n",
    "celsius_min = [19.6, 24.1, 26.7, 28.3, \n",
    "               27.5, 30.5, 32.8, 33.1]\n",
    "celsius_max = [24.8, 28.9, 31.3, 33.0, \n",
    "               34.9, 35.6, 38.4, 39.2]\n",
    "\n",
    "plt.xlabel('Day') #กำหนดให้แกน x มีชื่อว่า Day\n",
    "plt.ylabel('Degrees Celsius') #กำหนดให้แกน x มีชื่อว่า Degrees Celsius\n",
    "\n",
    "plt.plot(days, celsius_min,        #เส้น ถ้าเราไม่ใส่สีระบบจะใส่เอง\n",
    "         days, celsius_min, \"oy\",  #o = จุดกลมๆ  y = สีเหลือง\n",
    "         days, celsius_max,        #เส้น ถ้าเราไม่ใส่สีระบบจะใส่เอง\n",
    "         days, celsius_max, \"or\")  #o = จุดกลมๆ  r = สีแดง\n",
    "\n",
    "plt.show() #แสดงผล"
   ]
  },
  {
   "cell_type": "code",
   "execution_count": 37,
   "metadata": {},
   "outputs": [
    {
     "data": {
      "image/png": "[encoded data removed]",
      "text/plain": [
       "<Figure size 432x288 with 1 Axes>"
      ]
     },
     "metadata": {
      "needs_background": "light"
     },
     "output_type": "display_data"
    }
   ],
   "source": [
    "days = np.arange(1,9) # (จุดเริ่ม, จุดปลาย, เพิ่มทีละ)  #สร้างอาเรย์หนึ่งมิติที่มีเลขเรียงกัน\n",
    "celsius_min = [19.6, 24.1, 26.7, 28.3, \n",
    "               27.5, 30.5, 32.8, 33.1]\n",
    "celsius_max = [24.8, 28.9, 31.3, 33.0, \n",
    "               34.9, 35.6, 38.4, 39.2]\n",
    "\n",
    "plt.xlabel('Day') #กำหนดให้แกน x มีชื่อว่า Day\n",
    "plt.ylabel('Degrees Celsius') #กำหนดให้แกน x มีชื่อว่า Degrees Celsius\n",
    "\n",
    "plt.plot(\n",
    "         days, celsius_min, \"oy\",  #o = จุดกลมๆ  y = สีเหลือง\n",
    "          \n",
    "         days, celsius_max, \"or\")  #o = จุดกลมๆ  r = สีแดง\n",
    "\n",
    "plt.show() #แสดงผล"
   ]
  },
  {
   "cell_type": "markdown",
   "metadata": {},
   "source": [
    "### linspace to define X values"
   ]
  },
  {
   "cell_type": "code",
   "execution_count": 48,
   "metadata": {},
   "outputs": [
    {
     "data": {
      "image/png": "[encoded data removed]",
      "text/plain": [
       "<Figure size 432x288 with 1 Axes>"
      ]
     },
     "metadata": {
      "needs_background": "light"
     },
     "output_type": "display_data"
    }
   ],
   "source": [
    "#np.linspace = สร้างอาเรย์หนึ่งมิติตามจำนวนที่กำหนดโดยเว้นช่วงเท่าๆกัน\n",
    "\n",
    "X = np.linspace(0, 2 * np.pi, 50, endpoint=True) # (จุดเริ่ม, จุดปลาย, จำนวน) #np.pi = ค่าพาย\n",
    "\n",
    "#endpoint=True รวมเลขจุดปลาย ถ้า endpoint=0 จะหมายความว่าไม่รวมเลขจุดปลาย\n",
    "\n",
    "F = np.sin(X)  #เรื่องตรีโกณมิติ sin\n",
    "\n",
    "\n",
    "plt.plot(X, F)\n",
    "startx, endx = -0.1, 2*np.pi + 0.1  #np.pi = ค่าพาย\n",
    "starty, endy = -1.1, 1.1\n",
    "\n",
    "plt.axis([startx, endx, starty, endy]) #แกน X เริ่มที่ startx ยาวออกไป endx  แกน Y เริ่มที่ starty ยาวออกไป endy\n",
    "plt.show() #แสดงผล"
   ]
  },
  {
   "cell_type": "code",
   "execution_count": 53,
   "metadata": {},
   "outputs": [
    {
     "data": {
      "image/png": "[encoded data removed]",
      "text/plain": [
       "<Figure size 432x288 with 1 Axes>"
      ]
     },
     "metadata": {
      "needs_background": "light"
     },
     "output_type": "display_data"
    }
   ],
   "source": [
    "#np.linspace = สร้างอาเรย์หนึ่งมิติตามจำนวนที่กำหนดโดยเว้นช่วงเท่าๆกัน\n",
    "\n",
    "X = np.linspace(0, 2 * np.pi, 50, endpoint=True) # (จุดเริ่ม, จุดปลาย, จำนวน) #np.pi = ค่าพาย\n",
    "\n",
    "#endpoint=True รวมเลขจุดปลาย ถ้า endpoint=0 จะหมายความว่าไม่รวมเลขจุดปลาย\n",
    "\n",
    "#เรื่องตรีโกณมิติ\n",
    "F1 = 3 * np.sin(X)\n",
    "F2 = np.sin(2*X)\n",
    "F3 = 0.3 * np.sin(X)\n",
    "F4 = np.cos(X)\n",
    "\n",
    "#linewidth=ความหนาของเส้น , linestyle= รูปร่างของเส้น\n",
    "#plt.plot(x, y, color= , linewidth= , linestyle= ) s\n",
    "plt.plot(X, F1, color=\"blue\", linewidth=2.5, linestyle=\"-\")  \n",
    "plt.plot(X, F2, color=\"red\", linewidth=1.5, linestyle=\"--\")\n",
    "plt.plot(X, F3, color=\"green\", linewidth=2, linestyle=\":\")\n",
    "plt.plot(X, F4, color=\"grey\", linewidth=2, linestyle=\"-.\")\n",
    "\n",
    "plt.show()#แสดงผล"
   ]
  },
  {
   "cell_type": "markdown",
   "metadata": {},
   "source": [
    "### Histogram"
   ]
  },
  {
   "cell_type": "code",
   "execution_count": 54,
   "metadata": {},
   "outputs": [
    {
     "data": {
      "image/png": "[encoded data removed]",
      "text/plain": [
       "<Figure size 432x288 with 1 Axes>"
      ]
     },
     "metadata": {
      "needs_background": "light"
     },
     "output_type": "display_data"
    }
   ],
   "source": [
    "gaussian_numbers = np.random.normal(size=10000)\n",
    "\n",
    "plt.hist(gaussian_numbers) #คำสั่งสร้าง ฮิสโทแกรม\n",
    "plt.title(\"Guassian Histogram\") #กำหนดให้กราฟ มีชื่อว่า Guassian Histogram\n",
    "plt.xlabel(\"Value\")  #กำหนดให้แกน x มีชื่อว่า Value\n",
    "plt.ylabel(\"Frequency\") #กำหนดให้แกน y มีชื่อว่า Frequency\n",
    "plt.show()#แสดงผล"
   ]
  },
  {
   "cell_type": "markdown",
   "metadata": {},
   "source": [
    "### Histogram - bins"
   ]
  },
  {
   "cell_type": "code",
   "execution_count": 41,
   "metadata": {},
   "outputs": [
    {
     "data": {
      "image/png": "[encoded data removed]",
      "text/plain": [
       "<Figure size 432x288 with 1 Axes>"
      ]
     },
     "metadata": {
      "needs_background": "light"
     },
     "output_type": "display_data"
    }
   ],
   "source": [
    "plt.hist(gaussian_numbers, bins = 100)  #bins คือจำนวนช่วงของข้อมูลที่ต้องการแบ่ง\n",
    "plt.show()#แสดงผล"
   ]
  },
  {
   "cell_type": "markdown",
   "metadata": {},
   "source": [
    "### Formatted histogram"
   ]
  },
  {
   "cell_type": "code",
   "execution_count": 55,
   "metadata": {},
   "outputs": [
    {
     "name": "stderr",
     "output_type": "stream",
     "text": [
      "C:\\Users\\USER\\Anaconda3\\lib\\site-packages\\ipykernel_launcher.py:9: MatplotlibDeprecationWarning: \n",
      "The 'normed' kwarg was deprecated in Matplotlib 2.1 and will be removed in 3.1. Use 'density' instead.\n",
      "  if __name__ == '__main__':\n"
     ]
    },
    {
     "data": {
      "image/png": "[encoded data removed]",
      "text/plain": [
       "<Figure size 432x288 with 1 Axes>"
      ]
     },
     "metadata": {
      "needs_background": "light"
     },
     "output_type": "display_data"
    }
   ],
   "source": [
    "#If both the parameters 'normed' and 'stacked' are set to 'True',\n",
    "#the sum of the histograms is normalized to 1.\n",
    "\n",
    "plt.hist(gaussian_numbers,\n",
    "         bins = 100, #bins คือจำนวนช่วงของข้อมูลที่ต้องการแบ่ง\n",
    "         normed = True, \n",
    "         stacked = True, \n",
    "         edgecolor = \"#6A9662\", #code สี ของเส้นกรอบสีเขียวเข้ม\n",
    "         color = \"#DDFFDD\") #code สี ของสี้านใน ซึ่งเป็นสีเขียวอ่อน\n",
    "plt.show()#แสดงผล"
   ]
  },
  {
   "cell_type": "markdown",
   "metadata": {},
   "source": [
    "### Bar plots"
   ]
  },
  {
   "cell_type": "code",
   "execution_count": 56,
   "metadata": {},
   "outputs": [
    {
     "data": {
      "image/png": "[encoded data removed]",
      "text/plain": [
       "<Figure size 432x288 with 1 Axes>"
      ]
     },
     "metadata": {
      "needs_background": "light"
     },
     "output_type": "display_data"
    }
   ],
   "source": [
    "bars = plt.bar([1,2,3,4],[1,4,9,12])  #plt.bar = คำสั่งแผนภูมิแท่ง\n",
    "bars[0].set_color('green') #ตั้งว่าให้ bars[0] มีสีเป็นสีเขียว\n",
    "plt.show() #แสดงผล"
   ]
  },
  {
   "cell_type": "markdown",
   "metadata": {},
   "source": [
    "### Contour plot"
   ]
  },
  {
   "cell_type": "code",
   "execution_count": 76,
   "metadata": {},
   "outputs": [
    {
     "name": "stderr",
     "output_type": "stream",
     "text": [
      "C:\\Users\\USER\\Anaconda3\\lib\\site-packages\\ipykernel_launcher.py:14: UserWarning: The following kwargs were not used by contour: 'linewidth'\n",
      "  \n"
     ]
    },
    {
     "data": {
      "image/png": "[encoded data removed]",
      "text/plain": [
       "<Figure size 432x288 with 1 Axes>"
      ]
     },
     "metadata": {},
     "output_type": "display_data"
    }
   ],
   "source": [
    "def f(x,y):\n",
    "    return (1-x/2+x**5+y**3)*np.exp(-x**2-y**2)\n",
    "\n",
    "n = 256\n",
    "#np.linspace = สร้างอาเรย์หนึ่งมิติตามจำนวนที่กำหนดโดยเว้นช่วงเท่าๆกัน\n",
    "x = np.linspace(-3,3,n) # (จุดเริ่ม, จุดปลาย, จำนวน)\n",
    "y = np.linspace(-3,3,n) # (จุดเริ่ม, จุดปลาย, จำนวน)\n",
    "X,Y = np.meshgrid(x,y)  #np.meshgrid มีไว้สำหรับสร้างลิสต์ของอาเรย์ที่แจกแจงค่า โดยออกมาในรูปของอาเรย์ที่มีมิติตามจำนวนอาร์กิวเมนต์ที่ใส่เข้าไป\n",
    "\n",
    "plt.axes([0.025, 0.025, 0.95, 0.95])  #แกน X เริ่มที่ 0.025 ยาวออกไป 0.025  แกน Y เริ่มที่ 0.95 ยาวออกไป 0.95\n",
    "\n",
    "#plt.contourf = เป็นคอนทัวร์แบบใส่พื้นสี\n",
    "plt.contourf(X, Y, f(X,Y), 8, alpha=.7, cmap=plt.cm.hot)  #alpha = ค่าความเข้มสี  plt.cm.hot เป็นสีโทนร้อน\n",
    "C = plt.contour(X, Y, f(X,Y), 8, colors='black', linewidth=.5)\n",
    "\n",
    "#การใส่ตัวเลขลงบนเส้นสามารถทำได้โดยฟังก์ชัน plt.clabel\n",
    "plt.clabel(C, inline=1, fontsize=10)  #inline=1 เส้นจะไม่ทับข้อความ ส่วน inline=0 เส้นจะทับข้อความ\n",
    "\n",
    "\n",
    "plt.xticks([]), plt.yticks([])  #plt.xticks = ค่าตำแหน่งขีดบอกในแกน x  plt.yticks = ค่าตำแหน่งขีดบอกในแกน y\n",
    "\n",
    "plt.show() #แสดงผล"
   ]
  },
  {
   "cell_type": "code",
   "execution_count": 77,
   "metadata": {},
   "outputs": [
    {
     "name": "stderr",
     "output_type": "stream",
     "text": [
      "C:\\Users\\USER\\Anaconda3\\lib\\site-packages\\ipykernel_launcher.py:14: UserWarning: The following kwargs were not used by contour: 'linewidth'\n",
      "  \n"
     ]
    },
    {
     "data": {
      "image/png": "[encoded data removed]",
      "text/plain": [
       "<Figure size 432x288 with 1 Axes>"
      ]
     },
     "metadata": {},
     "output_type": "display_data"
    }
   ],
   "source": [
    "def f(x,y):\n",
    "    return (1-x/2+x**5+y**3)*np.exp(-x**2-y**2)\n",
    "\n",
    "n = 256\n",
    "#np.linspace = สร้างอาเรย์หนึ่งมิติตามจำนวนที่กำหนดโดยเว้นช่วงเท่าๆกัน\n",
    "x = np.linspace(-3,3,n) # (จุดเริ่ม, จุดปลาย, จำนวน)\n",
    "y = np.linspace(-3,3,n) # (จุดเริ่ม, จุดปลาย, จำนวน)\n",
    "X,Y = np.meshgrid(x,y)  #np.meshgrid มีไว้สำหรับสร้างลิสต์ของอาเรย์ที่แจกแจงค่า โดยออกมาในรูปของอาเรย์ที่มีมิติตามจำนวนอาร์กิวเมนต์ที่ใส่เข้าไป\n",
    "\n",
    "plt.axes([0.025, 0.025, 0.95, 0.95])  #แกน X เริ่มที่ 0.025 ยาวออกไป 0.025  แกน Y เริ่มที่ 0.95 ยาวออกไป 0.95\n",
    "\n",
    "#plt.contourf = เป็นคอนทัวร์แบบใส่พื้นสี\n",
    "plt.contourf(X, Y, f(X,Y), 8, alpha=.8, cmap=plt.cm.rainbow)  #alpha = ค่าความเข้มสี  plt.cm.rainbow เป็นสีรุ้ง\n",
    "C = plt.contour(X, Y, f(X,Y), 8, colors='black', linewidth=.5)\n",
    "\n",
    "#การใส่ตัวเลขลงบนเส้นสามารถทำได้โดยฟังก์ชัน plt.clabel\n",
    "plt.clabel(C, inline=1, fontsize=10)  #inline=1 เส้นจะไม่ทับข้อความ ส่วน inline=0 เส้นจะทับข้อความ\n",
    "\n",
    "\n",
    "plt.xticks([]), plt.yticks([])  #plt.xticks = ค่าตำแหน่งขีดบอกในแกน x  plt.yticks = ค่าตำแหน่งขีดบอกในแกน y\n",
    "\n",
    "plt.show() #แสดงผล"
   ]
  },
  {
   "cell_type": "markdown",
   "metadata": {},
   "source": [
    "###  imshow"
   ]
  },
  {
   "cell_type": "code",
   "execution_count": 78,
   "metadata": {},
   "outputs": [
    {
     "data": {
      "image/png": "[encoded data removed]",
      "text/plain": [
       "<Figure size 432x288 with 1 Axes>"
      ]
     },
     "metadata": {
      "needs_background": "light"
     },
     "output_type": "display_data"
    }
   ],
   "source": [
    "def f(x,y):\n",
    "    return (1-x/2+x**5+y**3)*np.exp(-x**2-y**2)\n",
    "\n",
    "n = 10\n",
    "\n",
    "#np.linspace = สร้างอาเรย์หนึ่งมิติตามจำนวนที่กำหนดโดยเว้นช่วงเท่าๆกัน  # (จุดเริ่ม, จุดปลาย, จำนวน)\n",
    "x = np.linspace(-3,3,4*n)\n",
    "y = np.linspace(-3,3,3*n)\n",
    "\n",
    "#np.meshgrid มีไว้สำหรับสร้างลิสต์ของอาเรย์ที่แจกแจงค่า โดยออกมาในรูปของอาเรย์ที่มีมิติตามจำนวนอาร์กิวเมนต์ที่ใส่เข้าไป\n",
    "X,Y = np.meshgrid(x,y)\n",
    "\n",
    "\n",
    "plt.imshow(f(X,Y), cmap='bone')  #cmap='bone' = คีย์เวิร์ดสี\n",
    "plt.show() #แสดงผล\n",
    "\n",
    "\n",
    "#imshow จะนำอาเรย์สองมิติมาแสดงผลเป็นสีๆ\n",
    "#imshow จะแสดงแกนตั้งโดยเริ่มจาก 0 ที่ด้านบนสุด\n",
    "#เมื่อใช้ imshow สัดส่วนระหว่างแกน x และ y จะถูกตั้งให้เท่ากันเสมอ "
   ]
  },
  {
   "cell_type": "markdown",
   "metadata": {},
   "source": [
    "### Additional: Boxplot"
   ]
  },
  {
   "cell_type": "code",
   "execution_count": 46,
   "metadata": {},
   "outputs": [
    {
     "data": {
      "image/png": "[encoded data removed]",
      "text/plain": [
       "<Figure size 432x288 with 1 Axes>"
      ]
     },
     "metadata": {
      "needs_background": "light"
     },
     "output_type": "display_data"
    }
   ],
   "source": [
    "## Create data\n",
    "np.random.seed(10)\n",
    "collectn_1 = np.random.normal(100, 10, 200)\n",
    "collectn_2 = np.random.normal(80, 30, 200)\n",
    "collectn_3 = np.random.normal(90, 20, 200)\n",
    "collectn_4 = np.random.normal(70, 25, 200)\n",
    "\n",
    "## combine these different collections into a list    \n",
    "data_to_plot = [collectn_1, collectn_2, collectn_3, collectn_4]\n",
    "\n",
    "plt.boxplot(data_to_plot)  #คำสั่งboxplot\n",
    "plt.show() #แสดงผล"
   ]
  },
  {
   "cell_type": "markdown",
   "metadata": {},
   "source": [
    "---"
   ]
  },
  {
   "cell_type": "markdown",
   "metadata": {},
   "source": [
    "# Homework"
   ]
  },
  {
   "cell_type": "markdown",
   "metadata": {},
   "source": [
    "## -Calculate GPA"
   ]
  },
  {
   "cell_type": "code",
   "execution_count": 5,
   "metadata": {},
   "outputs": [
    {
     "name": "stdout",
     "output_type": "stream",
     "text": [
      " GPA is : 3.41\n"
     ]
    }
   ],
   "source": [
    "import csv\n",
    "\n",
    "#เปิดไฟล์\n",
    "f = open(\"Data/Scores.csv\", \"rt\")\n",
    "\n",
    "try:\n",
    "    #ให้อ่านไฟล์ f\n",
    "    reader = csv.reader(f) \n",
    "\n",
    "    def GPA_calculator():\n",
    "        UnitOf_subject = []\n",
    "        Grade_letter = []\n",
    "        Grade_number = []\n",
    "        sum_Unit = 0\n",
    "        sum_Grade = 0\n",
    "        \n",
    "        #ทำการดึงค่าจากในไฟล์ f\n",
    "        for row in reader:\n",
    "            #print(row[1])\n",
    "            UnitOf_subject.append(row[1])  #เอาค่าหน่วยกิตออกมา\n",
    "            Grade_letter.append(row[2])    #เอาค่าเกรด(A B+ B..) ออกมา\n",
    "\n",
    "        #print(UnitOf_subject)\n",
    "        #print(Grade_letter)\n",
    "\n",
    "        #เปลี่ยนค่าเกรด(A B+ B..) เป็นตัวเลข\n",
    "        for n in Grade_letter:\n",
    "            if n == \"A\":\n",
    "                Grade_number.append(4)\n",
    "            elif n == \"B+\":\n",
    "                Grade_number.append(3.5)\n",
    "            elif n == \"B\":\n",
    "                Grade_number.append(3)\n",
    "            elif n == \"C+\":\n",
    "                Grade_number.append(2.5)\n",
    "            elif n == \"C\":\n",
    "                Grade_number.append(2)\n",
    "            elif n == \"D+\":\n",
    "                Grade_number.append(1.5)\n",
    "            elif n == \"D\":\n",
    "                Grade_number.append(1)\n",
    "            elif n == \"F\":\n",
    "                Grade_number.append(0)\n",
    "\n",
    "        #print(Grade_number) \n",
    "\n",
    "        #ผลรวมของหน่วยกิต\n",
    "        for n in UnitOf_subject:\n",
    "            sum_Unit = sum_Unit + int(n)  \n",
    "\n",
    "        #print(summation_Unit) \n",
    "\n",
    "        #คิดตัวส่วนก่อน\n",
    "        for n in range(len(Grade_number)) and range(len(UnitOf_subject)):\n",
    "            calculator = float(Grade_number[n])*float(UnitOf_subject[n])\n",
    "            sum_Grade = sum_Grade + calculator\n",
    "\n",
    "        #print(sum_Grade) \n",
    "\n",
    "        #เข้าสูตรเลย\n",
    "        GPA = (sum_Grade/sum_Unit)\n",
    "        print(\" GPA is :\", '%.2f'%GPA) #เอาทศนิยม 2 ตำแหน่ง\n",
    "\n",
    "    #เรียกใช้ฟังก์ชัน\n",
    "    GPA_calculator()\n",
    "\n",
    "finally:\n",
    "    #ปิดไฟล์\n",
    "    f.close() "
   ]
  },
  {
   "cell_type": "markdown",
   "metadata": {},
   "source": [
    "---"
   ]
  }
 ],
 "metadata": {
  "kernelspec": {
   "display_name": "Python 3",
   "language": "python",
   "name": "python3"
  },
  "language_info": {
   "codemirror_mode": {
    "name": "ipython",
    "version": 3
   },
   "file_extension": ".py",
   "mimetype": "text/x-python",
   "name": "python",
   "nbconvert_exporter": "python",
   "pygments_lexer": "ipython3",
   "version": "3.8.8"
  }
 },
 "nbformat": 4,
 "nbformat_minor": 2
}
