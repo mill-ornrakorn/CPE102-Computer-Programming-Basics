{
 "cells": [
  {
   "cell_type": "markdown",
   "metadata": {},
   "source": [
    "## <center>CPE102 Computer Programming Basics</center>\n",
    "# <center>Lab 05 Iteration</center>\n",
    "---"
   ]
  },
  {
   "cell_type": "markdown",
   "metadata": {},
   "source": [
    "### จากข้อ 2. Dog Years ใน Lab 4 ถ้าทำเป็นIteration"
   ]
  },
  {
   "cell_type": "markdown",
   "metadata": {},
   "source": [
    "It is commonly said that one human year is equivalent to 7 dog years. However this simple\n",
    "conversion fails to recognize that dogs reach adulthood in approximately two years. As a result,\n",
    "some people believe that it is better to count each of the first two human years as 10.5 dog years,\n",
    "and then count each additional human year as 4 dog years.\n",
    "\n",
    "Write a program that implements the conversion from human years to dog years described in the\n",
    "previous paragraph. Ensure that your program works correctly for conversions of less than two\n",
    "human years and for conversions of two or more human years. Your program should display an\n",
    "appropriate error message if the user enters a negative number."
   ]
  },
  {
   "cell_type": "markdown",
   "metadata": {},
   "source": [
    "### -While"
   ]
  },
  {
   "cell_type": "code",
   "execution_count": 35,
   "metadata": {},
   "outputs": [
    {
     "name": "stdout",
     "output_type": "stream",
     "text": [
      "Hello! Welcome to Program:Change it to the Dog Years!? \n",
      "please enter the year that you want to change :  \n"
     ]
    },
    {
     "ename": "ValueError",
     "evalue": "invalid literal for int() with base 10: ' '",
     "output_type": "error",
     "traceback": [
      "\u001b[1;31m---------------------------------------------------------------------------\u001b[0m",
      "\u001b[1;31mValueError\u001b[0m                                Traceback (most recent call last)",
      "\u001b[1;32m<ipython-input-35-fe0c72b6e3c3>\u001b[0m in \u001b[0;36m<module>\u001b[1;34m\u001b[0m\n\u001b[0;32m      2\u001b[0m \u001b[0mH\u001b[0m \u001b[1;33m=\u001b[0m \u001b[0minput\u001b[0m\u001b[1;33m(\u001b[0m\u001b[1;34m\"Hello! Welcome to Program:Change it to the Dog Years!? \\nplease enter the year that you want to change : \"\u001b[0m\u001b[1;33m)\u001b[0m\u001b[1;33m\u001b[0m\u001b[1;33m\u001b[0m\u001b[0m\n\u001b[0;32m      3\u001b[0m \u001b[1;32mwhile\u001b[0m \u001b[0mH\u001b[0m\u001b[1;33m!=\u001b[0m\u001b[1;34m\"\"\u001b[0m\u001b[1;33m:\u001b[0m \u001b[1;31m#ขณะที่ H ไม่เท่ากับช่องว่าง จะทำเงื่อนไข..\u001b[0m\u001b[1;33m\u001b[0m\u001b[1;33m\u001b[0m\u001b[0m\n\u001b[1;32m----> 4\u001b[1;33m     \u001b[1;32mif\u001b[0m \u001b[0mint\u001b[0m\u001b[1;33m(\u001b[0m\u001b[0mH\u001b[0m\u001b[1;33m)\u001b[0m\u001b[1;33m>\u001b[0m\u001b[1;36m0\u001b[0m\u001b[1;33m:\u001b[0m\u001b[1;33m\u001b[0m\u001b[1;33m\u001b[0m\u001b[0m\n\u001b[0m\u001b[0;32m      5\u001b[0m         \u001b[1;32mif\u001b[0m \u001b[0mint\u001b[0m\u001b[1;33m(\u001b[0m\u001b[0mH\u001b[0m\u001b[1;33m)\u001b[0m\u001b[1;33m<=\u001b[0m\u001b[1;36m2\u001b[0m\u001b[1;33m:\u001b[0m\u001b[1;33m\u001b[0m\u001b[1;33m\u001b[0m\u001b[0m\n\u001b[0;32m      6\u001b[0m             \u001b[0mDogyears\u001b[0m\u001b[1;33m=\u001b[0m\u001b[0mint\u001b[0m\u001b[1;33m(\u001b[0m\u001b[0mH\u001b[0m\u001b[1;33m)\u001b[0m\u001b[1;33m*\u001b[0m\u001b[1;36m10.5\u001b[0m\u001b[1;33m\u001b[0m\u001b[1;33m\u001b[0m\u001b[0m\n",
      "\u001b[1;31mValueError\u001b[0m: invalid literal for int() with base 10: ' '"
     ]
    }
   ],
   "source": [
    "#ลองใส่ While loop คลุม\n",
    "H = input(\"Hello! Welcome to Program:Change it to the Dog Years!? \\nplease enter the year that you want to change : \")\n",
    "while H!=\"\": #ขณะที่ H ไม่เท่ากับช่องว่าง(Blank หรือ(spacebar))จะทำเงื่อนไข..\n",
    "    if int(H)>0:\n",
    "        if int(H)<=2:\n",
    "            Dogyears=int(H)*10.5\n",
    "        else:\n",
    "            Dogyears=21+4*(int(H)-2)\n",
    "        print(\"The Dog Years is \"+str(Dogyears)) \n",
    "    else:\n",
    "        print(\"Sorry.. This Years is Indeterminable\")\n",
    "    H = input(\"Enter Human Year (Blank to finish):\") #ใส่เพื่อที่จะได้ กรอกข้อมูลได้รั่วๆ"
   ]
  },
  {
   "cell_type": "markdown",
   "metadata": {},
   "source": [
    "    จะเห็นว่า ถ้าเราใส่ Blank ไปจะขึ้น error เพราะตอนinputเราตั้งเงื่อนไขไว้ว่า จะแปลงเป็น int แต่ Blank ไม่ใช่ int \n",
    "    แต่เป็นStringที่ไม่แปลงได้ เลยขึ้นerror"
   ]
  },
  {
   "cell_type": "markdown",
   "metadata": {},
   "source": [
    "    ดังนั้นถ้าเรา"
   ]
  },
  {
   "cell_type": "code",
   "execution_count": 33,
   "metadata": {},
   "outputs": [
    {
     "name": "stdout",
     "output_type": "stream",
     "text": [
      "Hello! Welcome to Program:Change it to the Dog Years!? \n",
      "please enter the year that you want to change : \n",
      "stop\n"
     ]
    }
   ],
   "source": [
    "#ใส่ else โดยมีเงื่อนไขว่าถ้าไม่ตรงกับอันไหนข้างบนเลยให้ Stop\n",
    "H = input(\"Hello! Welcome to Program:Change it to the Dog Years!? \\nplease enter the year that you want to change : \")\n",
    "while H!=\"\":  #ขณะที่ H ไม่เท่ากับช่องว่าง(Blank หรือ(spacebar))จะทำเงื่อนไข..\n",
    "    if int(H)>0:\n",
    "        if int(H)<=2:\n",
    "            Dogyears=int(H)*10.5\n",
    "        else:\n",
    "            Dogyears=21+4*(int(H)-2)\n",
    "        print(\"The Dog Years is \"+str(Dogyears)) \n",
    "    else:\n",
    "        print(\"Sorry.. This Years is Indeterminable\")\n",
    "    H = input(\"Enter Human Year (Blank to finish):\") #ใส่เพื่อที่จะได้ กรอกข้อมูลได้รัว ๆ\n",
    "    \n",
    "else:\n",
    "    print(\"stop\")   #ใส่เพื่อที่ ถ้าเราใส่ Blank มาจะได้ stop"
   ]
  },
  {
   "cell_type": "code",
   "execution_count": 39,
   "metadata": {},
   "outputs": [
    {
     "name": "stdout",
     "output_type": "stream",
     "text": [
      "Hello! Welcome to Program:Change it to the Dog Years!? \n",
      "please enter the year that you want to change : -2\n",
      "please enter a POSITIVE Human Year. \n"
     ]
    }
   ],
   "source": [
    "#ดังนั้นถ้าเรา ใส่ค่าติดที่ติดลบดู แล้วให้ขึ้น please enter a POSITIVE Human Year.\n",
    "H = input(\"Hello! Welcome to Program:Change it to the Dog Years!? \\nplease enter the year that you want to change : \")\n",
    "while int(H)>=0: #ขณะที่ H มากกว่าเท่ากับ 0 จะทำเงื่อนไข..\n",
    "    if int(H)>0:\n",
    "        if int(H)<=2:\n",
    "            Dogyears=int(H)*10.5\n",
    "        else:\n",
    "            Dogyears=21+4*(int(H)-2)\n",
    "        print(\"The Dog Years is \"+str(Dogyears)) \n",
    "    else:\n",
    "        print(\"Sorry.. This Years is Indeterminable\")\n",
    "    H = input(\"Enter Human Year (Blank to finish):\") #ใส่เพื่อที่จะได้ กรอกข้อมูลได้รัว ๆ\n",
    "    \n",
    "else:  \n",
    "    print(\"please enter a POSITIVE Human Year. \") #ใส่เพื่อ เมื่อ input ค่าที่ติดลบมาจะขึ้น please enter a POSITIVE Human Year. "
   ]
  },
  {
   "cell_type": "markdown",
   "metadata": {},
   "source": [
    "### -For"
   ]
  },
  {
   "cell_type": "code",
   "execution_count": 41,
   "metadata": {},
   "outputs": [
    {
     "name": "stdout",
     "output_type": "stream",
     "text": [
      "ํโปรดใส่จำนวนของHuman Year(s)ที่ต้องการแสดงให้เป็นDog years : 3\n",
      "Sorry.. This Year(s) is Indeterminable\n",
      "The Dog Years is 10.5\n",
      "The Dog Years is 21.0\n"
     ]
    }
   ],
   "source": [
    "#ลองใส่ For loop คลุม\n",
    "N = input(\"ํโปรดใส่จำนวนของHuman Year(s)ที่ต้องการแสดงให้เป็นDog years : \")\n",
    "for i in range(int(N)): \n",
    "    if i>0:\n",
    "        if i<=2:\n",
    "            Dogyears=i*10.5\n",
    "        else:\n",
    "            Dogyears=21+4*(int(i)-2)\n",
    "        print(\"The Dog Years is\",Dogyears) \n",
    "    else:\n",
    "        print(\"Sorry.. This Year(s) is Indeterminable\")\n",
    "        \n",
    "#มันจะเริ่มจาก 0 \n",
    "#หากใส่ 3 จะได้บรรทัดแรกเป็น\n",
    "#บรรทัดแรก : Sorry.. This Year(s) is Indeterminable\n",
    "#บรรทัด2 : The Dog Years is 10.5 จะเห็นว่าค่าของอันนี้คือ 1 เพราะ 1  Human Year(s)เท่ากับ 10.5 Dog years\n",
    "#บรรทัด3 : The Dog Years is 21.0 จะเห็นว่าค่าของอันนี้คือ 2 เพราะ 2  Human Year(s)เท่ากับ 21.0 Dog years"
   ]
  },
  {
   "cell_type": "markdown",
   "metadata": {},
   "source": [
    "## คำสั่งอื่น ๆ ใน itration"
   ]
  },
  {
   "cell_type": "markdown",
   "metadata": {},
   "source": [
    "### 1.break"
   ]
  },
  {
   "cell_type": "code",
   "execution_count": 5,
   "metadata": {},
   "outputs": [
    {
     "name": "stdout",
     "output_type": "stream",
     "text": [
      "please enter your name : mill\n",
      "please enter your age : 19\n",
      "Henlo mill ==> 361\n",
      "please enter your name : kiw\n",
      "please enter your age : 20\n",
      "Henlo kiw ==> 400\n",
      "please enter your name : stop\n"
     ]
    }
   ],
   "source": [
    "#คำสั่ง break\n",
    "#คือ ถ้าเจอปุ๊ปจะหลุดออกจาก itration นั้นทันที\n",
    "while True:\n",
    "    name = input(\"please enter your name : \")\n",
    "    if name == \"stop\": # == คือ เท่ากับ  ถ้า = คือการแทนค่า\n",
    "        break #ในที่นี้คือ เมื่อมีการinput name ว่าstop จะทำการหลุดออกจาก itration นั้นทันที\n",
    "    age = input(\"please enter your age : \")\n",
    "    print(\"Henlo\",name,\"==>\",int(age)**2)"
   ]
  },
  {
   "cell_type": "markdown",
   "metadata": {},
   "source": [
    "### 2.continue"
   ]
  },
  {
   "cell_type": "code",
   "execution_count": 13,
   "metadata": {},
   "outputs": [
    {
     "name": "stdout",
     "output_type": "stream",
     "text": [
      "current letter :  p\n",
      "current letter :  y\n",
      "current letter :  t\n",
      "current letter :  o\n",
      "current letter :  n\n"
     ]
    }
   ],
   "source": [
    "#คำสั่ง continue กับ for\n",
    "#คือการกลับขึ้นไปCheck ใหม่อีกครั้ง\n",
    "for letter in \"phython\":\n",
    "    if letter == \"h\": # == คือ เท่ากับ  ถ้า = คือการแทนค่า\n",
    "        continue   #ในที่นี้มันจะทำการกลับขึ้นไปcheckตรงช่วงforใหม่ เมื่อเจอ letter = h คล้ายกับการข้ามแต่เป็นการไปต่อเลย\n",
    "    print(\"current letter : \",letter)"
   ]
  },
  {
   "cell_type": "code",
   "execution_count": 1,
   "metadata": {},
   "outputs": [
    {
     "name": "stdout",
     "output_type": "stream",
     "text": [
      "current varible value :  9\n",
      "current varible value :  8\n",
      "current varible value :  7\n",
      "current varible value :  6\n",
      "current varible value :  4\n",
      "current varible value :  3\n",
      "current varible value :  2\n",
      "current varible value :  1\n",
      "current varible value :  0\n",
      "good bye!\n"
     ]
    }
   ],
   "source": [
    "#คำสั่ง continue กับ for\n",
    "var = 10\n",
    "for i in range(int(var)):\n",
    "    var = var -1\n",
    "    if var ==5:\n",
    "        continue \n",
    "    print(\"current varible value : \",var)\n",
    "print(\"good bye!\")"
   ]
  },
  {
   "cell_type": "code",
   "execution_count": 9,
   "metadata": {},
   "outputs": [
    {
     "name": "stdout",
     "output_type": "stream",
     "text": [
      "current varible value :  9\n",
      "current varible value :  8\n",
      "current varible value :  7\n",
      "current varible value :  6\n",
      "current varible value :  4\n",
      "current varible value :  3\n",
      "current varible value :  2\n",
      "current varible value :  1\n",
      "current varible value :  0\n",
      "good bye!\n"
     ]
    }
   ],
   "source": [
    "#คำสั่ง continue กับ while\n",
    "var = 10\n",
    "while var > 0:\n",
    "    var = var -1\n",
    "    if var ==5:\n",
    "        continue #ในที่นี้มันจะทำการกลับขึ้นไปcheckตรงช่วงforใหม่ เมื่อเจอ var = 5 คล้ายกับการข้ามแต่เป็นการไปต่อเลย\n",
    "    print(\"current varible value : \",var)\n",
    "print(\"good bye!\")"
   ]
  },
  {
   "cell_type": "markdown",
   "metadata": {},
   "source": [
    "### ตัวอย่าง"
   ]
  },
  {
   "cell_type": "code",
   "execution_count": 16,
   "metadata": {},
   "outputs": [
    {
     "name": "stdout",
     "output_type": "stream",
     "text": [
      "(4, 5) was found!\n",
      "3.14 not found!\n"
     ]
    }
   ],
   "source": [
    "items = [\"aaa\",111,(4,5),2.01]\n",
    "tests = [(4,5),3.14]\n",
    "\n",
    "for key in tests: #ลูปแรกเป็นการวนอ่านค่าตัวอักษรในตัวแปร tests โดยโปรแกรมจะวนอ่านค่าทีละตัวมาเก็บไว้ในตัวแปร key เพื่อไว้ใช้ต่อไป\n",
    "    for item in items: #itemในนี้คือเรากำหนดขึ้นมาเอง\n",
    "        if item == key: # == คือ เท่ากับ  ถ้า = คือการแทนค่า\n",
    "            print(key,\"was found!\")\n",
    "            break\n",
    "    else:\n",
    "        print(key,\"not found!\")"
   ]
  },
  {
   "cell_type": "code",
   "execution_count": 42,
   "metadata": {},
   "outputs": [
    {
     "name": "stdout",
     "output_type": "stream",
     "text": [
      "key = (4, 5)\n",
      "item = aaa\n",
      "item = 111\n",
      "item = (4, 5)\n",
      "(4, 5) was found!\n",
      "\n",
      "\n",
      "key = 3.14\n",
      "item = aaa\n",
      "item = 111\n",
      "item = (4, 5)\n",
      "item = 2.01\n",
      "3.14 not found!\n",
      "\n",
      "\n"
     ]
    }
   ],
   "source": [
    "items = [\"aaa\",111,(4,5),2.01]\n",
    "tests = [(4,5),3.14]\n",
    "\n",
    "for key in tests: #ลูปแรกเป็นการวนอ่านค่าตัวอักษรในตัวแปร tests โดยโปรแกรมจะวนอ่านค่าทีละตัวมาเก็บไว้ในตัวแปร key เพื่อไว้ใช้ต่อไป\n",
    "    print(\"key =\",key)\n",
    "    for item in items: #itemในนี้คือเรากำหนดขึ้นมาเอง\n",
    "        print(\"item =\",item)\n",
    "        if item == key: # == คือ เท่ากับ  ถ้า = คือการแทนค่า\n",
    "            print(key,\"was found!\")\n",
    "            break\n",
    "    else:\n",
    "        print(key,\"not found!\")\n",
    "    print(\"\\n\") #ขึ้นบรรทัดใหม่"
   ]
  },
  {
   "cell_type": "markdown",
   "metadata": {},
   "source": [
    "# in-class assignment"
   ]
  },
  {
   "cell_type": "code",
   "execution_count": 4,
   "metadata": {},
   "outputs": [
    {
     "name": "stdout",
     "output_type": "stream",
     "text": [
      "number : 10\n",
      "0\n",
      "1\n",
      "3\n",
      "6\n",
      "10\n",
      "15\n",
      "21\n",
      "28\n",
      "36\n",
      "45\n",
      "55\n"
     ]
    }
   ],
   "source": [
    "#while loop\n",
    "n = input(\"number : \")\n",
    "i = 0\n",
    "a = 0\n",
    "\n",
    "while i<=int(n):\n",
    "    if i<=int(n):\n",
    "        a = a+i\n",
    "        i = i+1\n",
    "        print(a)\n",
    "    \n",
    "if int(n)<=0:\n",
    "    print(\"NOPE\")"
   ]
  },
  {
   "cell_type": "code",
   "execution_count": 1,
   "metadata": {},
   "outputs": [
    {
     "name": "stdout",
     "output_type": "stream",
     "text": [
      "number : 10\n",
      "0\n",
      "1\n",
      "3\n",
      "6\n",
      "10\n",
      "15\n",
      "21\n",
      "28\n",
      "36\n",
      "45\n",
      "55\n"
     ]
    }
   ],
   "source": [
    "#for loop\n",
    "n = input(\"number : \")\n",
    "a = 0\n",
    "i = 0\n",
    "\n",
    "for i in range(int(n)+1):\n",
    "    if i<=int(n):\n",
    "        a = a+i\n",
    "        i = i+1\n",
    "        print(a)\n",
    "if int(n)<=0:\n",
    "    print(\"NOPE\")"
   ]
  },
  {
   "cell_type": "code",
   "execution_count": 6,
   "metadata": {},
   "outputs": [
    {
     "name": "stdout",
     "output_type": "stream",
     "text": [
      "Enter Number to calculate sum : 10\n",
      "SUM of first  10 numbers is :  55\n"
     ]
    }
   ],
   "source": [
    "# อีกวิธี\n",
    "n = input(\"Enter Number to calculate sum : \")\n",
    "n = int (n)\n",
    "average = 0\n",
    "sum = 0\n",
    "\n",
    "for num in range(0,n+1,1):\n",
    "    sum = sum+num \n",
    "\n",
    "print(\"SUM of first \", n, \"numbers is : \", sum )\n",
    "\n",
    "#sum เป็นคำสั่งสำหรับใช้หาผลรวม"
   ]
  },
  {
   "cell_type": "markdown",
   "metadata": {},
   "source": [
    "# Homework"
   ]
  },
  {
   "cell_type": "markdown",
   "metadata": {},
   "source": [
    "## 1. Average "
   ]
  },
  {
   "cell_type": "markdown",
   "metadata": {},
   "source": [
    "Create a program that computes the average of a collection of values entered by the user. \n",
    "The user will enter 0 as a sentinel value to indicate that no further values will be provided. \n",
    "Your program should display an appropriate error message if the first value entered by the user is 0. \n",
    "Hint: Because the 0 marks the end of the input it should not be included in the average. "
   ]
  },
  {
   "cell_type": "code",
   "execution_count": 29,
   "metadata": {},
   "outputs": [
    {
     "name": "stdout",
     "output_type": "stream",
     "text": [
      "Please Enter your number : 0\n",
      "Error! Please Enter new number that isn't 0 again : 97\n",
      "Please Enter your number : 98\n",
      "Please Enter your number : 99\n",
      "Please Enter your number : 100\n",
      "Please Enter your number : 0\n",
      "The average is 98.50\n"
     ]
    }
   ],
   "source": [
    "n = int(input(\"Please Enter your number : \")) #n = number\n",
    "i = 0 \n",
    "a = 0 #a = Average\n",
    "\n",
    "while int(n)==0:  #ขณะที่ n คือ 0 ให้ input ใหม่\n",
    "    n = input(\"Error! Please Enter new number that isn't 0 again : \")\n",
    "    \n",
    "while int(n)!=0: #ขณะที่ n ไม่เท่ากับ 0 ทำเงื่อนไขดังต่อไปนี้..\n",
    "    a = a + int(n)\n",
    "    n = int(input(\"Please Enter your number : \"))\n",
    "    i=i+1\n",
    "else:\n",
    "    print(\"The average is\",'%.2f'%(a/i))  # %.2f คือ การเพิ่มจุดทศนิยมไป 2 ตำแหน่ง\n",
    "    \n",
    "#ใช้ while เพราะว่าไม่รู้ขีดจำกัด "
   ]
  },
  {
   "cell_type": "markdown",
   "metadata": {},
   "source": [
    "## 2. Discount Table"
   ]
  },
  {
   "cell_type": "markdown",
   "metadata": {},
   "source": [
    "A particular retailer is having a 60 percent off sale on a variety of discontinued products. The\n",
    "retailer would like to help its customers determine the reduced price of the merchandise by having\n",
    "a printed discount table on the shelf that shows the original prices and the prices after the discount\n",
    "has been applied. Write a program that uses a loop to generate this table, showing the original\n",
    "price, the discount amount, and the new price for purchases of $4.95, $9.95, $14.95, $19.95 and\n",
    "$24.95. Ensure that the discount amounts and the new prices are rounded to 2 decimal places when\n",
    "they are displayed.\n"
   ]
  },
  {
   "cell_type": "code",
   "execution_count": 32,
   "metadata": {},
   "outputs": [
    {
     "name": "stdout",
     "output_type": "stream",
     "text": [
      "----------------------------------------------------------------------------------------------------\n",
      "\tOriginal prices($)\t\tDiscount($)\t\t Prices after the discount($)\n",
      "\t\t 4.95 \t\t\t 2.0 \t\t\t\t 2.95\n",
      "\t\t 9.95 \t\t\t 5.0 \t\t\t\t 4.95\n",
      "\t\t 14.95 \t\t\t 8.0 \t\t\t\t 6.95\n",
      "\t\t 19.95 \t\t\t 11.0 \t\t\t\t 8.95\n",
      "\t\t 24.95 \t\t\t 14.0 \t\t\t\t 10.95\n",
      "----------------------------------------------------------------------------------------------------\n"
     ]
    }
   ],
   "source": [
    "Originalprices = [4.95,9.95,14.95,19.95,24.95] #O ประกอบไปด้วย 4.95,9.95,14.95,19.95,24.95 มี Data rype เป็น list \n",
    "print('-' * 100) #ทำเพื่อความสวยงาม\n",
    "print(\"\\t\" \"Original prices($)\" \"\\t\\t\" \"Discount($)\" \"\\t\\t\" \" Prices after the discount($)\") #\\tคือการกดTab\n",
    "for O in Originalprices: #ลูปแรกเป็นการวนอ่านค่าตัวอักษรในตัวแปร Originalprices โดยโปรแกรมจะวนอ่านค่าทีละตัวมาเก็บไว้ในตัวแปร O เพื่อไว้ใช้ต่อไป\n",
    "    D = O * 60 // 100 #มาจากสูตรของการลดราคา\n",
    "    PAD ='%.2f' %(O - D) #มาจากสูตรของการลดราคา คือเมื่อได้ค่า % มา ให้นำมาลบกับราคาเต็ม จะได้ราคาที่ลด\n",
    "    print(\"\\t\\t\",O,\"\\t\\t\\t\",D,\"\\t\\t\\t\\t\",PAD) #\\tคือการกดTab\n",
    "print('-' * 100) #ทำเพื่อความสวยงาม\n",
    "\n",
    "#ตัวแปร D คือ Discount\n",
    "#ตัวแปร PAD คือ Prices after the discount\n",
    "\n",
    "#ใช้ for เพราะว่ารู้ขีดจำกัด คือ 4.95,9.95,14.95,19.95,24.95"
   ]
  },
  {
   "cell_type": "markdown",
   "metadata": {},
   "source": [
    "## 3. Temperature Conversion Table"
   ]
  },
  {
   "cell_type": "markdown",
   "metadata": {},
   "source": [
    "Write a program that displays a temperature conversion table for degrees Celsius and degrees\n",
    "Fahrenheit. The table should include rows for all temperatures between 0 and 100 degrees Celsius\n",
    "that are multiples of 10 degrees Celsius. Include appropriate headings on your columns. The\n",
    "formula for converting between degrees Celsius and degrees Fahrenheit can be found on the internet."
   ]
  },
  {
   "cell_type": "code",
   "execution_count": 29,
   "metadata": {},
   "outputs": [
    {
     "name": "stdout",
     "output_type": "stream",
     "text": [
      "--------------------------------------------------\n",
      "\tCelsius\t\t\tFahrenheit\n",
      "\t 0 \t\t\t 32.0\n",
      "\t 10 \t\t\t 50.0\n",
      "\t 20 \t\t\t 68.0\n",
      "\t 30 \t\t\t 86.0\n",
      "\t 40 \t\t\t 104.0\n",
      "\t 50 \t\t\t 122.0\n",
      "\t 60 \t\t\t 140.0\n",
      "\t 70 \t\t\t 158.0\n",
      "\t 80 \t\t\t 176.0\n",
      "\t 90 \t\t\t 194.0\n",
      "\t 100 \t\t\t 212.0\n",
      "--------------------------------------------------\n"
     ]
    }
   ],
   "source": [
    "print('-' * 50) #ทำเพื่อความสวยงาม\n",
    "print(\"\\t\" \"Celsius\" \"\\t\\t\\t\" \"Fahrenheit\") #\\tคือการกดTab\n",
    "for C in range(0,101,10): #ตรง range(0,101,10) คือ เริ่มจาก 0 ไปถึง 100 [ถึงในcodeจะพิมพ์ว่า101แต่มันจะตัดที่100] โดยเพิ่มทีละ 10\n",
    "    F = (1.8*C) + 32  #อันนี้คือสูตรการแปลงองศาเซลเซียสเป็นองศาฟาเรนไฮต์[°F = (1.8 × °C) + 32]\n",
    "    print(\"\\t\",C,\"\\t\\t\\t\",F) #\\tคือการกดTab\n",
    "print('-' * 50) #ทำเพื่อความสวยงาม\n",
    "\n",
    "#ตัวแปร C คือ Celsius\n",
    "#ตัวแปร F คือ Fahrenheit\n",
    "\n",
    "#ใช้ for เพราะว่ารู้ขีดจำกัด คือ เริ่มจาก 0 ไปถึง 100 โดยเพิ่มทีละ 10"
   ]
  },
  {
   "cell_type": "markdown",
   "metadata": {},
   "source": [
    "---"
   ]
  }
 ],
 "metadata": {
  "kernelspec": {
   "display_name": "Python 3",
   "language": "python",
   "name": "python3"
  },
  "language_info": {
   "codemirror_mode": {
    "name": "ipython",
    "version": 3
   },
   "file_extension": ".py",
   "mimetype": "text/x-python",
   "name": "python",
   "nbconvert_exporter": "python",
   "pygments_lexer": "ipython3",
   "version": "3.8.8"
  }
 },
 "nbformat": 4,
 "nbformat_minor": 2
}
