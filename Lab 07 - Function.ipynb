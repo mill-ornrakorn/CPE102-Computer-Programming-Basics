{
 "cells": [
  {
   "cell_type": "markdown",
   "metadata": {},
   "source": [
    "## <center>CPE102 Computer Programming Basics</center>\n",
    "# <center>Lab 07 - Function</center>\n",
    "---"
   ]
  },
  {
   "cell_type": "markdown",
   "metadata": {},
   "source": [
    "## -Function: แบบไม่มีParameter"
   ]
  },
  {
   "cell_type": "markdown",
   "metadata": {},
   "source": [
    "    Parameter หมายถึง ค่าของข้อมูลหรือตัวแปรที่อ้างอิง โดยการส่งผ่านมาจากโปรแกรมหลัก \n",
    "    มายังชื่อฟังก์ชันที่กำหนด เพื่อให้ฟังก์ชันนั้นนำค่าของข้อมูลหรือตัวแปรไปประมวลผลใด ๆ"
   ]
  },
  {
   "cell_type": "code",
   "execution_count": 2,
   "metadata": {},
   "outputs": [
    {
     "name": "stdout",
     "output_type": "stream",
     "text": [
      "Hello World!\n"
     ]
    }
   ],
   "source": [
    "def Hello():\n",
    "    print(\"Hello World!\") \n",
    "\n",
    "Hello()"
   ]
  },
  {
   "cell_type": "code",
   "execution_count": 26,
   "metadata": {},
   "outputs": [
    {
     "name": "stdout",
     "output_type": "stream",
     "text": [
      "  ______\n",
      " /      \\\n",
      "/        \\\n",
      "\\        /\n",
      " \\______/\n",
      "\n"
     ]
    }
   ],
   "source": [
    "def top():\n",
    "    print(\"  ______\") \n",
    "    print(\" /      \\\\\")\n",
    "    print(\"/        \\\\\") \n",
    "    \n",
    "def bottom():\n",
    "    print(\"\\        /\") \n",
    "    print(\" \\______/\")\n",
    "    \n",
    "def line():\n",
    "     print(\"+----------+\")\n",
    "        \n",
    "def egg():\n",
    "    top()\n",
    "    bottom()\n",
    "    print()\n",
    "egg()"
   ]
  },
  {
   "cell_type": "code",
   "execution_count": 3,
   "metadata": {},
   "outputs": [
    {
     "name": "stdout",
     "output_type": "stream",
     "text": [
      "\\        /\n",
      " \\______/\n",
      "+----------+\n",
      "\n"
     ]
    }
   ],
   "source": [
    "def cup():\n",
    "    bottom()\n",
    "    line()\n",
    "    print()\n",
    "cup()"
   ]
  },
  {
   "cell_type": "code",
   "execution_count": 4,
   "metadata": {},
   "outputs": [
    {
     "name": "stdout",
     "output_type": "stream",
     "text": [
      "  ______\n",
      " /      \\\n",
      "/        \\\n",
      "+----------+\n",
      "\n"
     ]
    }
   ],
   "source": [
    "def hat():\n",
    "    top()\n",
    "    line()\n",
    "    print()\n",
    "hat()"
   ]
  },
  {
   "cell_type": "code",
   "execution_count": 29,
   "metadata": {},
   "outputs": [
    {
     "name": "stdout",
     "output_type": "stream",
     "text": [
      "  ______\n",
      " /      \\\n",
      "/        \\\n",
      "|  STOP  |\n",
      "\\        /\n",
      " \\______/\n",
      "\n"
     ]
    }
   ],
   "source": [
    "def stop():\n",
    "    top()\n",
    "    print(\"|  STOP  |\")\n",
    "    bottom()\n",
    "    print()\n",
    "stop()"
   ]
  },
  {
   "cell_type": "markdown",
   "metadata": {},
   "source": [
    "## -Function: แบบมีParameter"
   ]
  },
  {
   "cell_type": "markdown",
   "metadata": {},
   "source": [
    "    Parameter หมายถึง ค่าของข้อมูลหรือตัวแปรที่อ้างอิง โดยการส่งผ่านมาจากโปรแกรมหลัก \n",
    "    มายังชื่อฟังก์ชันที่กำหนด เพื่อให้ฟังก์ชันนั้นนำค่าของข้อมูลหรือตัวแปรไปประมวลผลใด ๆ"
   ]
  },
  {
   "cell_type": "code",
   "execution_count": 6,
   "metadata": {},
   "outputs": [
    {
     "name": "stdout",
     "output_type": "stream",
     "text": [
      "Hello,Mill.good morning!\n"
     ]
    }
   ],
   "source": [
    "def greet(name):\n",
    "    print(\"Hello,\"+name+\".good morning!\") \n",
    "greet(\"Mill\")"
   ]
  },
  {
   "cell_type": "code",
   "execution_count": 17,
   "metadata": {},
   "outputs": [
    {
     "name": "stdout",
     "output_type": "stream",
     "text": [
      "24\n"
     ]
    }
   ],
   "source": [
    "def show_double(number):  \n",
    "    result = number*2  #result คือ Local variable คือสามารถเรียกได้เฉพาะในฟังก์ชั่นนี้เท่านั้น ฟังก์ชั่นอื่นเรียกไม่ได้\n",
    "    print(result)\n",
    "    \n",
    "show_double(12)"
   ]
  },
  {
   "cell_type": "code",
   "execution_count": 4,
   "metadata": {},
   "outputs": [
    {
     "name": "stdout",
     "output_type": "stream",
     "text": [
      "the value is 99\n",
      "I'm chaing the value.\n",
      "Now the value is 0\n",
      "Back in main the value is 99\n"
     ]
    }
   ],
   "source": [
    "def change_me(arg):\n",
    "    print(\"I'm chaing the value.\")\n",
    "    arg = 0\n",
    "    print(\"Now the value is\",arg)\n",
    "\n",
    "value = 99  #value เป็น Global variables คือสามารถเรียกได้ในทุก ๆ ฟังก์ชันเลย\n",
    "print(\"the value is\",value)\n",
    "change_me(value)\n",
    "print(\"Back in main the value is\",value)"
   ]
  },
  {
   "cell_type": "markdown",
   "metadata": {},
   "source": [
    "## -Default arguments"
   ]
  },
  {
   "cell_type": "code",
   "execution_count": 13,
   "metadata": {},
   "outputs": [
    {
     "name": "stdout",
     "output_type": "stream",
     "text": [
      "Hello,Mill Good morning!\n"
     ]
    }
   ],
   "source": [
    "def greet(name = \"everyone\"):\n",
    "    print(\"Hello,\"+name+\" Good morning!\")\n",
    "\n",
    "greet(\"Mill\")  #เราใส่ Parameter มันจะทำการใช้ค่าที่เราใส่เข้าไปแทน everyone เลย"
   ]
  },
  {
   "cell_type": "code",
   "execution_count": 14,
   "metadata": {},
   "outputs": [
    {
     "name": "stdout",
     "output_type": "stream",
     "text": [
      "Hello,everyone Good morning!\n"
     ]
    }
   ],
   "source": [
    "def greet(name = \"everyone\"):\n",
    "    print(\"Hello,\"+name+\" Good morning!\")\n",
    "\n",
    "greet()  #ถ้าเราไม่ใส่ Parameter มันจะทำการแทนค่าจากในฟังก์ชันที่เราได้กำหนดไว้ ซึ่งก็คือ everyone"
   ]
  },
  {
   "cell_type": "code",
   "execution_count": 12,
   "metadata": {},
   "outputs": [
    {
     "name": "stdout",
     "output_type": "stream",
     "text": [
      "Hello,Mill.Good morning!\n"
     ]
    }
   ],
   "source": [
    "def greet(name,msg=\"Good morning!\"):\n",
    "    print(\"Hello,\"+name+\".\"+msg)\n",
    "\n",
    "greet(\"Mill\")"
   ]
  },
  {
   "cell_type": "code",
   "execution_count": 11,
   "metadata": {},
   "outputs": [
    {
     "ename": "SyntaxError",
     "evalue": "non-default argument follows default argument (<ipython-input-11-ead48a64850c>, line 1)",
     "output_type": "error",
     "traceback": [
      "\u001b[1;36m  File \u001b[1;32m\"<ipython-input-11-ead48a64850c>\"\u001b[1;36m, line \u001b[1;32m1\u001b[0m\n\u001b[1;33m    def greet(msg=\"Good morning!\",name):\u001b[0m\n\u001b[1;37m             ^\u001b[0m\n\u001b[1;31mSyntaxError\u001b[0m\u001b[1;31m:\u001b[0m non-default argument follows default argument\n"
     ]
    }
   ],
   "source": [
    "def greet(msg=\"Good morning!\",name):\n",
    "    print(\"Hello,\"+name+\".\"+msg) #Non-default argument CANNOT follow default arguments\n",
    "\n",
    "greet(\"Mill\") "
   ]
  },
  {
   "cell_type": "markdown",
   "metadata": {},
   "source": [
    "SyntaxError: non-default argument follows default argument ซึ่งในที่นี้คือ msg=\"Good morning!\" ห้ามตามด้วย ,name ไม่งั้นจะerror"
   ]
  },
  {
   "cell_type": "markdown",
   "metadata": {},
   "source": [
    "## -Keyword arguments"
   ]
  },
  {
   "cell_type": "code",
   "execution_count": 27,
   "metadata": {},
   "outputs": [
    {
     "name": "stdout",
     "output_type": "stream",
     "text": [
      "Hello,Mill,How do you do?\n"
     ]
    }
   ],
   "source": [
    "def greet(name,msg=\"Good morning!\"):\n",
    "    print(\"Hello,\"+name+\",\"+msg)\n",
    "    \n",
    "greet(\"Mill\",msg=\"How do you do?\") #เราใส่ Parameter ของ msg=\"How do you do?\" มันจะทำการใช้ค่าที่เราใส่เข้าไปแทน Good morning! เลย"
   ]
  },
  {
   "cell_type": "code",
   "execution_count": 31,
   "metadata": {},
   "outputs": [
    {
     "name": "stdout",
     "output_type": "stream",
     "text": [
      "Hello,Mill,How do you do?\n"
     ]
    }
   ],
   "source": [
    "greet(name=\"Mill\",msg=\"How do you do?\")"
   ]
  },
  {
   "cell_type": "code",
   "execution_count": 30,
   "metadata": {},
   "outputs": [
    {
     "name": "stdout",
     "output_type": "stream",
     "text": [
      "Hello,Mill,How do you do?\n"
     ]
    }
   ],
   "source": [
    "greet(msg=\"How do you do?\",name=\"Mill\")  #จะเห็นว่าตำแหน่งไม่มีผลเพราะมันสามารถcheckจากตัวแปรได้"
   ]
  },
  {
   "cell_type": "code",
   "execution_count": 26,
   "metadata": {},
   "outputs": [
    {
     "name": "stdout",
     "output_type": "stream",
     "text": [
      "Hello,Mill,Good morning!\n"
     ]
    }
   ],
   "source": [
    "greet(name=\"Mill\")  #ถ้าหากเราไม่ได้กำหนด msg ตอนเรียกใช้ ในdef greet จะใช้msgจากในนั้นเลยซึ่งก็คือ msg=\"Good morning!\""
   ]
  },
  {
   "cell_type": "code",
   "execution_count": 25,
   "metadata": {},
   "outputs": [
    {
     "ename": "SyntaxError",
     "evalue": "positional argument follows keyword argument (<ipython-input-25-1aa6b933236e>, line 1)",
     "output_type": "error",
     "traceback": [
      "\u001b[1;36m  File \u001b[1;32m\"<ipython-input-25-1aa6b933236e>\"\u001b[1;36m, line \u001b[1;32m1\u001b[0m\n\u001b[1;33m    greet(name=\"Mill\",\"How do you do?\")\u001b[0m\n\u001b[1;37m                     ^\u001b[0m\n\u001b[1;31mSyntaxError\u001b[0m\u001b[1;31m:\u001b[0m positional argument follows keyword argument\n"
     ]
    }
   ],
   "source": [
    "greet(name=\"Mill\",\"How do you do?\")  #Non-default argument CANNOT follow default arguments"
   ]
  },
  {
   "cell_type": "markdown",
   "metadata": {},
   "source": [
    "SyntaxError: positional argument follows keyword argument ซึ่งในทีั่นี้คือ name=\"Mill\" ห้ามตามด้วย ,\"How do you do?\"ไม่งั้นจะerror"
   ]
  },
  {
   "cell_type": "markdown",
   "metadata": {},
   "source": [
    "## -Arbitrary arguments (มีสัญลักษณ์คือ * )"
   ]
  },
  {
   "cell_type": "code",
   "execution_count": 32,
   "metadata": {},
   "outputs": [
    {
     "name": "stdout",
     "output_type": "stream",
     "text": [
      "Hello,Tom.\n",
      "Hello,Grant.\n",
      "Hello,Jake.\n"
     ]
    }
   ],
   "source": [
    "def greet(*names):   #เราไม่รู้ว่าตอนเรียกฟังก์ชั่นจะมี names กี่ตัวเราเลยใช้ * \n",
    "    for name in names:\n",
    "        print(\"Hello,\"+name+\".\")\n",
    "\n",
    "greet(\"Tom\",\"Grant\",\"Jake\")"
   ]
  },
  {
   "cell_type": "markdown",
   "metadata": {},
   "source": [
    "## -Value-returning function"
   ]
  },
  {
   "cell_type": "code",
   "execution_count": 31,
   "metadata": {},
   "outputs": [
    {
     "name": "stdout",
     "output_type": "stream",
     "text": [
      "9\n"
     ]
    }
   ],
   "source": [
    "def add(num1,num2):\n",
    "    result = num1 + num2\n",
    "    return result  #return คือการส่งค่าที่ต้องการออกจากฟังก์ชัน\n",
    "\n",
    "x = add(5,4)  \n",
    "print(x)"
   ]
  },
  {
   "cell_type": "code",
   "execution_count": 36,
   "metadata": {},
   "outputs": [
    {
     "name": "stdout",
     "output_type": "stream",
     "text": [
      "ตัวแปรtotalที่อยู่นอกฟังก์ชัน 10\n",
      "ตัวแปร a ในฟังก์ชัน 15\n",
      "ตัวแปรtotalที่อยู่ในฟังก์ชัน 30\n",
      "ตัวแปรtotalที่อยู่นอกฟังก์ชัน 30\n"
     ]
    }
   ],
   "source": [
    "total = 10\n",
    "print(\"ตัวแปรtotalที่อยู่นอกฟังก์ชัน\",total)\n",
    "\n",
    "def myfunc(num1,num2):\n",
    "    a = 15\n",
    "    total = num1 + num2\n",
    "    print(\"ตัวแปร a ในฟังก์ชัน\",a)\n",
    "    print(\"ตัวแปรtotalที่อยู่ในฟังก์ชัน\",total)\n",
    "    return total  \n",
    "\n",
    "total = myfunc(10,20)\n",
    "print(\"ตัวแปรtotalที่อยู่นอกฟังก์ชัน\",total)  #ค่า totalที่อยู่นอกฟังก์ชันจะถูกแทนที่ด้วย totalที่อยู่ในฟังก์ชัน"
   ]
  },
  {
   "cell_type": "markdown",
   "metadata": {},
   "source": [
    "## -Anonymous Function"
   ]
  },
  {
   "cell_type": "code",
   "execution_count": 30,
   "metadata": {},
   "outputs": [
    {
     "name": "stdout",
     "output_type": "stream",
     "text": [
      "10\n"
     ]
    }
   ],
   "source": [
    "#เราสามารถ สร้างฟังก์ชันไม่ระบุชื่อ (anonymous functions) ได้ด้วยฟังก์ชัน lambda\n",
    "double = lambda x: x*2\n",
    "print(double (5))"
   ]
  },
  {
   "cell_type": "code",
   "execution_count": 15,
   "metadata": {},
   "outputs": [
    {
     "name": "stdout",
     "output_type": "stream",
     "text": [
      "[4, 6, 8, 12]\n"
     ]
    }
   ],
   "source": [
    "my_list = [1,5,4,6,8,11,3,12]\n",
    "new_list = list(filter( lambda x: (x%2==0),my_list ))  \n",
    "#filter ทำการกรองอันไหนที่เป็นจริงใน ( lambda x: (x%2==0) แล้วเก็บไว้ เอาอันที่ไม่จริงออก\n",
    "\n",
    "print(new_list)"
   ]
  },
  {
   "cell_type": "markdown",
   "metadata": {},
   "source": [
    "---"
   ]
  },
  {
   "cell_type": "markdown",
   "metadata": {},
   "source": [
    "# Lab 7 - Function"
   ]
  },
  {
   "cell_type": "markdown",
   "metadata": {},
   "source": [
    "## ข้อที่ 1."
   ]
  },
  {
   "cell_type": "markdown",
   "metadata": {},
   "source": [
    "Create a function that calculate n factorial. Read an\n",
    "integer then call the function to calculate the result.\n",
    "Show the result in main()."
   ]
  },
  {
   "cell_type": "code",
   "execution_count": 13,
   "metadata": {},
   "outputs": [
    {
     "name": "stdout",
     "output_type": "stream",
     "text": [
      "Hello! Welcome to the Program calculate n factorial!\n",
      "Please Enter number that you want to calculate factorial : 4\n",
      "The factorial of 4 is : 24\n"
     ]
    }
   ],
   "source": [
    "print(\"Hello! Welcome to the Program calculate n factorial!\")\n",
    "user_input_number = int(input(\"Please Enter number that you want to calculate factorial : \"))\n",
    "\n",
    "def factorial(n):\n",
    "    fact = 1\n",
    "    for i in range(1,user_input_number+1): \n",
    "        fact = fact * i \n",
    "    print (\"The factorial of\",user_input_number, \"is :\",fact) \n",
    "\n",
    "factorial(user_input_number)"
   ]
  },
  {
   "cell_type": "markdown",
   "metadata": {},
   "source": [
    "## ข้อที่ 2."
   ]
  },
  {
   "cell_type": "markdown",
   "metadata": {},
   "source": [
    "Read 10 input into an array in main(). Create a\n",
    "function that return summation of the only positive\n",
    "odd values in the array. Print the result in main()."
   ]
  },
  {
   "cell_type": "code",
   "execution_count": 6,
   "metadata": {
    "scrolled": true
   },
   "outputs": [
    {
     "name": "stdout",
     "output_type": "stream",
     "text": [
      "Please Enter 10 number that you want to summation : 1\n",
      "Please Enter 10 number that you want to summation : 2\n",
      "Please Enter 10 number that you want to summation : 3\n",
      "Please Enter 10 number that you want to summation : 4\n",
      "Please Enter 10 number that you want to summation : 5\n",
      "Please Enter 10 number that you want to summation : 6\n",
      "Please Enter 10 number that you want to summation : 7\n",
      "Please Enter 10 number that you want to summation : 8\n",
      "Please Enter 10 number that you want to summation : 9\n",
      "Please Enter 10 number that you want to summation : 10\n",
      "The list of number that you enter is  [1, 2, 3, 4, 5, 6, 7, 8, 9, 10]\n",
      "Remove the even number of this list :  [1, 3, 5, 7, 9]\n",
      "The summation of this list is :  25\n"
     ]
    }
   ],
   "source": [
    "#วิธีที่ 1\n",
    "\n",
    "n = []\n",
    "\n",
    "def mainn(num):\n",
    "    for i in range(10):\n",
    "        a = int(input(\"Please Enter 10 number that you want to summation : \"))\n",
    "        n.append(a)\n",
    "    print(\"The list of number that you enter is \",n)\n",
    "    odd = list(filter( lambda x:(x%2==1),n)) \n",
    "    return odd\n",
    "odd_ที่ออกจากฟังก์ชัน = mainn(n)\n",
    "print(\"Remove the even number of this list : \",odd_ที่ออกจากฟังก์ชัน)\n",
    "\n",
    "def summation(num): \n",
    "    summ = 0\n",
    "    for i in odd_ที่ออกจากฟังก์ชัน:\n",
    "        summ = summ + i\n",
    "    return summ\n",
    "summ_ที่ออกจากฟังก์ชัน = summation(odd_ที่ออกจากฟังก์ชัน)\n",
    "print(\"The summation of this list is : \",summ_ที่ออกจากฟังก์ชัน)\n",
    "\n",
    "\n"
   ]
  },
  {
   "cell_type": "code",
   "execution_count": 16,
   "metadata": {},
   "outputs": [
    {
     "name": "stdout",
     "output_type": "stream",
     "text": [
      "Hello! Welcome to the Program summation of positive odd values!\n",
      "Please Enter 10 number that you want to summation : 1\n",
      "Please Enter 10 number that you want to summation : 2\n",
      "Please Enter 10 number that you want to summation : 3\n",
      "Please Enter 10 number that you want to summation : 4\n",
      "Please Enter 10 number that you want to summation : 5\n",
      "Please Enter 10 number that you want to summation : 6\n",
      "Please Enter 10 number that you want to summation : 7\n",
      "Please Enter 10 number that you want to summation : 8\n",
      "Please Enter 10 number that you want to summation : 9\n",
      "Please Enter 10 number that you want to summation : 10\n",
      "The list of number that you enter is  [1, 2, 3, 4, 5, 6, 7, 8, 9, 10]\n",
      "Remove the even number of this list :  [1, 3, 5, 7, 9]\n",
      "The summation of this list is :  25\n"
     ]
    }
   ],
   "source": [
    "#วิธีที่ 2\n",
    "user_input_number = []\n",
    "\n",
    "print(\"Hello! Welcome to the Program summation of positive odd values!\")\n",
    "for i in range(10):\n",
    "    a = int(input(\"Please Enter 10 number that you want to summation : \"))\n",
    "    user_input_number .append(a)\n",
    "print(\"The list of number that you enter is \",user_input_number)\n",
    "\n",
    "odd_number = list(filter( lambda x: (x%2==1),user_input_number)) \n",
    "print(\"Remove the even number of this list : \",odd_number)\n",
    "\n",
    "def odd_summation(number): \n",
    "    summation = 0\n",
    "    for i in odd_number:\n",
    "        summation = summation + i\n",
    "    return summation\n",
    "summation = odd_summation(user_input_number)\n",
    "def main(number): \n",
    "    print(\"The summation of this list is : \",summation)\n",
    "    \n",
    "main(user_input_number)\n",
    "   "
   ]
  },
  {
   "cell_type": "markdown",
   "metadata": {},
   "source": [
    "## ข้อที่ 3."
   ]
  },
  {
   "cell_type": "markdown",
   "metadata": {},
   "source": [
    "Write a program that put comma when you print an integer.\n",
    "    For example 123456 will be printed as 123,456."
   ]
  },
  {
   "cell_type": "code",
   "execution_count": 1,
   "metadata": {},
   "outputs": [
    {
     "name": "stdout",
     "output_type": "stream",
     "text": [
      "ultimate's answer is 42\n"
     ]
    }
   ],
   "source": [
    "a = 'ultimate'\n",
    "n = 42\n",
    "print(\"{}'s answer is {}\".format(a, n))  #.formatคือการแทนค่า (a, n) ลงใน {} ทั้งสองอัน"
   ]
  },
  {
   "cell_type": "code",
   "execution_count": 6,
   "metadata": {},
   "outputs": [
    {
     "name": "stdout",
     "output_type": "stream",
     "text": [
      "Enter number 5000\n",
      "Original Number is :  5000\n",
      "Formatted Number with comma separator: 5,000\n"
     ]
    }
   ],
   "source": [
    "user_input_number = int(input(\"Enter number \"))\n",
    "\n",
    "def add_comma(n):\n",
    "    print(\"Original Number is : \", user_input_number)\n",
    "    print(\"Formatted Number with comma separator: \"+\"{:,}\".format(user_input_number))  \n",
    "                                            #ในที่นี้ {:,} จะเป็นลักษณะพิเศษ คือจะทำการใส่ , ขั้นตัวเลขทุก ๆ 3 ตัว\n",
    "\n",
    "add_comma(user_input_number)"
   ]
  },
  {
   "cell_type": "markdown",
   "metadata": {},
   "source": [
    "---"
   ]
  }
 ],
 "metadata": {
  "kernelspec": {
   "display_name": "Python 3",
   "language": "python",
   "name": "python3"
  },
  "language_info": {
   "codemirror_mode": {
    "name": "ipython",
    "version": 3
   },
   "file_extension": ".py",
   "mimetype": "text/x-python",
   "name": "python",
   "nbconvert_exporter": "python",
   "pygments_lexer": "ipython3",
   "version": "3.8.8"
  }
 },
 "nbformat": 4,
 "nbformat_minor": 2
}
