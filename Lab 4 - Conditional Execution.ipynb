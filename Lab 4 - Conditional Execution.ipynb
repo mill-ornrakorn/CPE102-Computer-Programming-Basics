{
 "cells": [
  {
   "cell_type": "markdown",
   "metadata": {},
   "source": [
    "## <center>CPE102 Computer Programming Basics</center>\n",
    "# <center>Lab 4 - Conditional Execution</center>\n",
    "---"
   ]
  },
  {
   "cell_type": "markdown",
   "metadata": {},
   "source": [
    "## IF-Statement"
   ]
  },
  {
   "cell_type": "code",
   "execution_count": 1,
   "metadata": {},
   "outputs": [
    {
     "name": "stdout",
     "output_type": "stream",
     "text": [
      "A =  4\n",
      "B =  2\n",
      "4\n"
     ]
    }
   ],
   "source": [
    "A = int(input(\"A =  \"))  #int คือ จำนวนเต็ม ถ้าไม่ใส่คลุมไว้จะทำให้ คำตอบผิดผลาดได้ เมื่อตอนการคำตอบที่เป็นจำนวนเต็ม\n",
    "B = int(input(\"B =  \"))\n",
    "if int(A>B):\n",
    "    print(A)\n",
    "else:\n",
    "    print(B)"
   ]
  },
  {
   "cell_type": "markdown",
   "metadata": {},
   "source": [
    "## Homework"
   ]
  },
  {
   "cell_type": "markdown",
   "metadata": {},
   "source": [
    "### 1. Is it a Leap Year? "
   ]
  },
  {
   "cell_type": "markdown",
   "metadata": {},
   "source": [
    "Most years have 365 days. However, the time required for the Earth to orbit the Sun is actually\n",
    "slightly more than that. As a result, an extra day, February 29, is included in some years to correct\n",
    "for this difference. Such years are referred to as leap years. The rules for determining whether or\n",
    "not a year is a leap year follow:\n",
    "\n",
    "    • Any year that is divisible by 400 is a leap year.\n",
    "    • Of the remaining years, any year that is divisible by 100 is not a leap year.\n",
    "    • Of the remaining years, any year that is divisible by 4 is a leap year.\n",
    "    • All other years are not leap years.\n",
    "    \n",
    "Write a program that reads a year from the user and displays a message indicating whether or not\n",
    "it is a leap year."
   ]
  },
  {
   "cell_type": "code",
   "execution_count": 2,
   "metadata": {},
   "outputs": [
    {
     "name": "stdout",
     "output_type": "stream",
     "text": [
      "Hello! Welcome to Program:Is it a Leap Year? \n",
      "please input the year that you want to know : 2000\n",
      "WOW! This Year is a Leap year!\n"
     ]
    }
   ],
   "source": [
    "#กรณีที่ใช่ Leap yaer\n",
    "Y = input(\"Hello! Welcome to Program:Is it a Leap Year? \\nplease input the year that you want to know : \")\n",
    "if int(Y)%400==0:\n",
    "    print(\"WOW! This Year is a Leap year!\")\n",
    "elif int(Y)%100==0:\n",
    "    print(\"Oops! This Year is not a Leap year!\")\n",
    "elif int(Y)%4==0:\n",
    "    print(\"WOW! This Year is a Leap year!\")\n",
    "else :\n",
    "    print(\"Oops! This Year is not a Leap year!\")"
   ]
  },
  {
   "cell_type": "code",
   "execution_count": 3,
   "metadata": {},
   "outputs": [
    {
     "name": "stdout",
     "output_type": "stream",
     "text": [
      "Hello! Welcome to Program:Is it a Leap Year? \n",
      "please input the year that you want to know : 1999\n",
      "Oops! This Year is not a Leap year!\n"
     ]
    }
   ],
   "source": [
    "#กรณีที่ไม่ใช่ Leap yaer\n",
    "Y = input(\"Hello! Welcome to Program:Is it a Leap Year? \\nplease input the year that you want to know : \")\n",
    "if int(Y)%400==0:\n",
    "    print(\"WOW! This Year is a Leap year!\")\n",
    "elif int(Y)%100==0:\n",
    "    print(\"Oops! This Year is not a Leap year!\")\n",
    "elif int(Y)%4==0:\n",
    "    print(\"WOW! This Year is a Leap year!\")\n",
    "else :\n",
    "    print(\"Oops! This Year is not a Leap year!\")"
   ]
  },
  {
   "cell_type": "markdown",
   "metadata": {},
   "source": [
    "### 2. Dog Years"
   ]
  },
  {
   "cell_type": "markdown",
   "metadata": {},
   "source": [
    "It is commonly said that one human year is equivalent to 7 dog years. However this simple\n",
    "conversion fails to recognize that dogs reach adulthood in approximately two years. As a result,\n",
    "some people believe that it is better to count each of the first two human years as 10.5 dog years,\n",
    "and then count each additional human year as 4 dog years.\n",
    "\n",
    "Write a program that implements the conversion from human years to dog years described in the\n",
    "previous paragraph. Ensure that your program works correctly for conversions of less than two\n",
    "human years and for conversions of two or more human years. Your program should display an\n",
    "appropriate error message if the user enters a negative number."
   ]
  },
  {
   "cell_type": "code",
   "execution_count": 4,
   "metadata": {},
   "outputs": [
    {
     "name": "stdout",
     "output_type": "stream",
     "text": [
      "Hello! Welcome to Program:Change it to the Dog Years!? \n",
      "please input the year that you want to change : 12\n",
      "The Dog Years is 61\n"
     ]
    }
   ],
   "source": [
    "#กรณี input ค่าที่เป็นจำนวนเต็มบวกมา \n",
    "H = input(\"Hello! Welcome to Program:Change it to the Dog Years!? \\nplease input the year that you want to change : \")\n",
    "if int(H)>0:\n",
    "    if int(H)<=2:\n",
    "        Dogyears=int(H)*10.5\n",
    "    else:\n",
    "        Dogyears=21+4*(int(H)-2)\n",
    "    print(\"The Dog Years is \"+str(Dogyears)) \n",
    "else:\n",
    "    print(\"The Dog Years is Indeterminable\")"
   ]
  },
  {
   "cell_type": "code",
   "execution_count": 5,
   "metadata": {},
   "outputs": [
    {
     "name": "stdout",
     "output_type": "stream",
     "text": [
      "Hello! Welcome to Program:Change it to the Dog Years!? \n",
      "please input the year that you want to change : -04\n",
      "Sorry.. This Years is Indeterminable\n"
     ]
    }
   ],
   "source": [
    "#กรณี input ค่าที่เป็นจำนวนเต็มลบมา \n",
    "H = input(\"Hello! Welcome to Program:Change it to the Dog Years!? \\nplease input the year that you want to change : \")\n",
    "if int(H)>0:\n",
    "    if int(H)<=2:\n",
    "        Dogyears=int(H)*10.5\n",
    "    else:\n",
    "        Dogyears=21+4*(int(H)-2)\n",
    "    print(\"The Dog Years is \"+str(Dogyears)) \n",
    "else:\n",
    "    print(\"Sorry.. This Years is Indeterminable\")"
   ]
  },
  {
   "cell_type": "markdown",
   "metadata": {},
   "source": [
    "### 3. Chinese Zodiac "
   ]
  },
  {
   "cell_type": "markdown",
   "metadata": {},
   "source": [
    "The Chinese zodiac assigns animals to years in a 12 year cycle. One 12 year cycle is shown in the table below. \n",
    "The pattern repeats from there, with 2012 being another year of the dragon, and1999 being another year of the hare.\n",
    "\n",
    "Write a program that reads a year from the user and displays the animal associated with that year. \n",
    "Your program should work correctly for anyyear greater than or equal to zero, notjust the ones listed in the table."
   ]
  },
  {
   "cell_type": "code",
   "execution_count": 6,
   "metadata": {},
   "outputs": [],
   "source": [
    "# จากโจทย์ ให้\n",
    "# ปี2000 เป็นปีนักษัตรของ มังกร\n",
    "# ปี2001 เป็นปีนักษัตรของ งู\n",
    "# ปี2002 เป็นปีนักษัตรของ ม้า\n",
    "# ปี2003 เป็นปีนักษัตรของ แกะ\n",
    "# ปี2004 เป็นปีนักษัตรของ ลิง\n",
    "# ปี2005 เป็นปีนักษัตรของ ไก่\n",
    "# ปี2006 เป็นปีนักษัตรของ หมา\n",
    "# ปี2007 เป็นปีนักษัตรของ หมู\n",
    "# ปี2008 เป็นปีนักษัตรของ หนู\n",
    "# ปี2009 เป็นปีนักษัตรของ วัว\n",
    "# ปี2010 เป็นปีนักษัตรของ เสือ\n",
    "# ปี2011 เป็นปีนักษัตรของ กระต่าย"
   ]
  },
  {
   "cell_type": "code",
   "execution_count": 7,
   "metadata": {},
   "outputs": [
    {
     "name": "stdout",
     "output_type": "stream",
     "text": [
      "Hello! Welcome to Program:What an animal associated with that year?? \n",
      "Please input the year that you want to know : 2000\n",
      "The Chinese zodiac assigns animals of this year is a Dragon\n"
     ]
    }
   ],
   "source": [
    "Y = int(input(\"Hello! Welcome to Program:What an animal associated with that year?? \\nPlease input the year that you want to know : \"))\n",
    "if (Y - 2000) % 12 == 0:\n",
    "    animal = 'Dragon'\n",
    "elif (Y - 2000) % 12 == 1:\n",
    "    animal = 'Snake'\n",
    "elif (year - 2000) % 12 == 2:\n",
    "    animal = 'Horse'\n",
    "elif (Y - 2000) % 12 == 3:\n",
    "    animal = 'sheep'\n",
    "elif (Y - 2000) % 12 == 4:\n",
    "    animal = 'Monkey'\n",
    "elif (Y - 2000) % 12 == 5:\n",
    "    animal = 'Rooster'\n",
    "elif (Y - 2000) % 12 == 6:\n",
    "    animal = 'Dog'\n",
    "elif (Y - 2000) % 12 == 7:\n",
    "    animal = 'Pig'\n",
    "elif (Y - 2000) % 12 == 8:\n",
    "    animal = 'Rat'\n",
    "elif (Y - 2000) % 12 == 9:\n",
    "    animal = 'Ox'\n",
    "elif (Y - 2000) % 12 == 10:\n",
    "    animal = 'Tiger'\n",
    "else:\n",
    "    animal = 'Hare'\n",
    "\n",
    "print(\"The Chinese zodiac assigns animals of this year is a\",animal)"
   ]
  },
  {
   "cell_type": "markdown",
   "metadata": {},
   "source": [
    "---"
   ]
  }
 ],
 "metadata": {
  "kernelspec": {
   "display_name": "Python 3",
   "language": "python",
   "name": "python3"
  },
  "language_info": {
   "codemirror_mode": {
    "name": "ipython",
    "version": 3
   },
   "file_extension": ".py",
   "mimetype": "text/x-python",
   "name": "python",
   "nbconvert_exporter": "python",
   "pygments_lexer": "ipython3",
   "version": "3.8.8"
  }
 },
 "nbformat": 4,
 "nbformat_minor": 2
}
