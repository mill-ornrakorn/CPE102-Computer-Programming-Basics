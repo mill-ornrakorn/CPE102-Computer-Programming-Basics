{
 "cells": [
  {
   "cell_type": "markdown",
   "metadata": {},
   "source": [
    "## <center>CPE102 Computer Programming Basics</center>\n",
    "# <center>Lab 11 - Pandas</center>\n",
    "---"
   ]
  },
  {
   "cell_type": "markdown",
   "metadata": {},
   "source": [
    "# Part 1: Load dataset HR-Employee-Attrition.csv"
   ]
  },
  {
   "cell_type": "code",
   "execution_count": 1,
   "metadata": {},
   "outputs": [],
   "source": [
    "import pandas as pd\n",
    "import os"
   ]
  },
  {
   "cell_type": "code",
   "execution_count": 2,
   "metadata": {
    "scrolled": true
   },
   "outputs": [
    {
     "data": {
      "text/html": [
       "<div>\n",
       "<style scoped>\n",
       "    .dataframe tbody tr th:only-of-type {\n",
       "        vertical-align: middle;\n",
       "    }\n",
       "\n",
       "    .dataframe tbody tr th {\n",
       "        vertical-align: top;\n",
       "    }\n",
       "\n",
       "    .dataframe thead th {\n",
       "        text-align: right;\n",
       "    }\n",
       "</style>\n",
       "<table border=\"1\" class=\"dataframe\">\n",
       "  <thead>\n",
       "    <tr style=\"text-align: right;\">\n",
       "      <th></th>\n",
       "      <th>Age</th>\n",
       "      <th>Attrition</th>\n",
       "      <th>BusinessTravel</th>\n",
       "      <th>DailyRate</th>\n",
       "      <th>Department</th>\n",
       "      <th>DistanceFromHome</th>\n",
       "      <th>Education</th>\n",
       "      <th>EducationField</th>\n",
       "      <th>EmployeeCount</th>\n",
       "      <th>EmployeeNumber</th>\n",
       "      <th>...</th>\n",
       "      <th>RelationshipSatisfaction</th>\n",
       "      <th>StandardHours</th>\n",
       "      <th>StockOptionLevel</th>\n",
       "      <th>TotalWorkingYears</th>\n",
       "      <th>TrainingTimesLastYear</th>\n",
       "      <th>WorkLifeBalance</th>\n",
       "      <th>YearsAtCompany</th>\n",
       "      <th>YearsInCurrentRole</th>\n",
       "      <th>YearsSinceLastPromotion</th>\n",
       "      <th>YearsWithCurrManager</th>\n",
       "    </tr>\n",
       "  </thead>\n",
       "  <tbody>\n",
       "    <tr>\n",
       "      <th>0</th>\n",
       "      <td>41</td>\n",
       "      <td>Yes</td>\n",
       "      <td>Travel_Rarely</td>\n",
       "      <td>1102</td>\n",
       "      <td>Sales</td>\n",
       "      <td>1</td>\n",
       "      <td>2</td>\n",
       "      <td>Life Sciences</td>\n",
       "      <td>1</td>\n",
       "      <td>1</td>\n",
       "      <td>...</td>\n",
       "      <td>1</td>\n",
       "      <td>80</td>\n",
       "      <td>0</td>\n",
       "      <td>8</td>\n",
       "      <td>0</td>\n",
       "      <td>1</td>\n",
       "      <td>6</td>\n",
       "      <td>4</td>\n",
       "      <td>0</td>\n",
       "      <td>5</td>\n",
       "    </tr>\n",
       "    <tr>\n",
       "      <th>1</th>\n",
       "      <td>49</td>\n",
       "      <td>No</td>\n",
       "      <td>Travel_Frequently</td>\n",
       "      <td>279</td>\n",
       "      <td>Research &amp; Development</td>\n",
       "      <td>8</td>\n",
       "      <td>1</td>\n",
       "      <td>Life Sciences</td>\n",
       "      <td>1</td>\n",
       "      <td>2</td>\n",
       "      <td>...</td>\n",
       "      <td>4</td>\n",
       "      <td>80</td>\n",
       "      <td>1</td>\n",
       "      <td>10</td>\n",
       "      <td>3</td>\n",
       "      <td>3</td>\n",
       "      <td>10</td>\n",
       "      <td>7</td>\n",
       "      <td>1</td>\n",
       "      <td>7</td>\n",
       "    </tr>\n",
       "    <tr>\n",
       "      <th>2</th>\n",
       "      <td>37</td>\n",
       "      <td>Yes</td>\n",
       "      <td>Travel_Rarely</td>\n",
       "      <td>1373</td>\n",
       "      <td>Research &amp; Development</td>\n",
       "      <td>2</td>\n",
       "      <td>2</td>\n",
       "      <td>Other</td>\n",
       "      <td>1</td>\n",
       "      <td>4</td>\n",
       "      <td>...</td>\n",
       "      <td>2</td>\n",
       "      <td>80</td>\n",
       "      <td>0</td>\n",
       "      <td>7</td>\n",
       "      <td>3</td>\n",
       "      <td>3</td>\n",
       "      <td>0</td>\n",
       "      <td>0</td>\n",
       "      <td>0</td>\n",
       "      <td>0</td>\n",
       "    </tr>\n",
       "    <tr>\n",
       "      <th>3</th>\n",
       "      <td>33</td>\n",
       "      <td>No</td>\n",
       "      <td>Travel_Frequently</td>\n",
       "      <td>1392</td>\n",
       "      <td>Research &amp; Development</td>\n",
       "      <td>3</td>\n",
       "      <td>4</td>\n",
       "      <td>Life Sciences</td>\n",
       "      <td>1</td>\n",
       "      <td>5</td>\n",
       "      <td>...</td>\n",
       "      <td>3</td>\n",
       "      <td>80</td>\n",
       "      <td>0</td>\n",
       "      <td>8</td>\n",
       "      <td>3</td>\n",
       "      <td>3</td>\n",
       "      <td>8</td>\n",
       "      <td>7</td>\n",
       "      <td>3</td>\n",
       "      <td>0</td>\n",
       "    </tr>\n",
       "    <tr>\n",
       "      <th>4</th>\n",
       "      <td>27</td>\n",
       "      <td>No</td>\n",
       "      <td>Travel_Rarely</td>\n",
       "      <td>591</td>\n",
       "      <td>Research &amp; Development</td>\n",
       "      <td>2</td>\n",
       "      <td>1</td>\n",
       "      <td>Medical</td>\n",
       "      <td>1</td>\n",
       "      <td>7</td>\n",
       "      <td>...</td>\n",
       "      <td>4</td>\n",
       "      <td>80</td>\n",
       "      <td>1</td>\n",
       "      <td>6</td>\n",
       "      <td>3</td>\n",
       "      <td>3</td>\n",
       "      <td>2</td>\n",
       "      <td>2</td>\n",
       "      <td>2</td>\n",
       "      <td>2</td>\n",
       "    </tr>\n",
       "  </tbody>\n",
       "</table>\n",
       "<p>5 rows × 35 columns</p>\n",
       "</div>"
      ],
      "text/plain": [
       "   Age Attrition     BusinessTravel  DailyRate              Department  \\\n",
       "0   41       Yes      Travel_Rarely       1102                   Sales   \n",
       "1   49        No  Travel_Frequently        279  Research & Development   \n",
       "2   37       Yes      Travel_Rarely       1373  Research & Development   \n",
       "3   33        No  Travel_Frequently       1392  Research & Development   \n",
       "4   27        No      Travel_Rarely        591  Research & Development   \n",
       "\n",
       "   DistanceFromHome  Education EducationField  EmployeeCount  EmployeeNumber  \\\n",
       "0                 1          2  Life Sciences              1               1   \n",
       "1                 8          1  Life Sciences              1               2   \n",
       "2                 2          2          Other              1               4   \n",
       "3                 3          4  Life Sciences              1               5   \n",
       "4                 2          1        Medical              1               7   \n",
       "\n",
       "   ...  RelationshipSatisfaction StandardHours  StockOptionLevel  \\\n",
       "0  ...                         1            80                 0   \n",
       "1  ...                         4            80                 1   \n",
       "2  ...                         2            80                 0   \n",
       "3  ...                         3            80                 0   \n",
       "4  ...                         4            80                 1   \n",
       "\n",
       "   TotalWorkingYears  TrainingTimesLastYear WorkLifeBalance  YearsAtCompany  \\\n",
       "0                  8                      0               1               6   \n",
       "1                 10                      3               3              10   \n",
       "2                  7                      3               3               0   \n",
       "3                  8                      3               3               8   \n",
       "4                  6                      3               3               2   \n",
       "\n",
       "  YearsInCurrentRole  YearsSinceLastPromotion  YearsWithCurrManager  \n",
       "0                  4                        0                     5  \n",
       "1                  7                        1                     7  \n",
       "2                  0                        0                     0  \n",
       "3                  7                        3                     0  \n",
       "4                  2                        2                     2  \n",
       "\n",
       "[5 rows x 35 columns]"
      ]
     },
     "execution_count": 2,
     "metadata": {},
     "output_type": "execute_result"
    }
   ],
   "source": [
    "df = pd.read_csv('Data/HR-Employee-Attrition.csv', header=0, sep='\\t')\n",
    "df.head()"
   ]
  },
  {
   "cell_type": "markdown",
   "metadata": {},
   "source": [
    "# How many record in this dataset?"
   ]
  },
  {
   "cell_type": "markdown",
   "metadata": {},
   "source": [
    "axis = 0 คือแถว, axis = 1 คือคอลัมน์ (หลัก)"
   ]
  },
  {
   "cell_type": "code",
   "execution_count": 3,
   "metadata": {},
   "outputs": [
    {
     "name": "stdout",
     "output_type": "stream",
     "text": [
      "จำนวนคอลัมน์ คือ 35\n"
     ]
    }
   ],
   "source": [
    "print(\"จำนวนคอลัมน์ คือ\",len(df.axes[1]),)  #1 = columns\n",
    "#len(df.columns)"
   ]
  },
  {
   "cell_type": "markdown",
   "metadata": {},
   "source": [
    "# How many columns and what are they?"
   ]
  },
  {
   "cell_type": "markdown",
   "metadata": {},
   "source": [
    "axis = 0 คือแถว, axis = 1 คือคอลัมน์ (หลัก)"
   ]
  },
  {
   "cell_type": "code",
   "execution_count": 4,
   "metadata": {},
   "outputs": [
    {
     "name": "stdout",
     "output_type": "stream",
     "text": [
      "จำนวนแถว คือ 1470\n"
     ]
    }
   ],
   "source": [
    "print(\"จำนวนแถว คือ\",len(df.axes[0]),)  #0 = rows"
   ]
  },
  {
   "cell_type": "markdown",
   "metadata": {},
   "source": [
    "# Which columns are category type?\n",
    "\n",
    "Plese be careful that some numeric type column may be categorical"
   ]
  },
  {
   "cell_type": "code",
   "execution_count": 5,
   "metadata": {},
   "outputs": [
    {
     "name": "stdout",
     "output_type": "stream",
     "text": [
      "columns ที่เป็นตัวหนังสือมีดังนี้ \n",
      " ['Gender', 'Over18', 'JobRole', 'MaritalStatus', 'OverTime', 'EducationField', 'BusinessTravel', 'Attrition', 'Department']\n"
     ]
    }
   ],
   "source": [
    "#Q:คอมลัมไหนบ้างที่เป็นตัวนส\n",
    "\n",
    "#คอมลัมทั้งหมด \n",
    "cols = df.columns\n",
    "#print(cols)\n",
    "\n",
    "#เอาคอมลัมที่เป็นตัวเลข\n",
    "num_cols = df._get_numeric_data().columns\n",
    "#print(num_cols) \n",
    "\n",
    "#คอมลัมทั้งหมด - คอมลัมตัวเลข \n",
    "print(\"columns ที่เป็นตัวหนังสือมีดังนี้\",\"\\n\",list(set(cols) - set(num_cols)))\n"
   ]
  },
  {
   "cell_type": "markdown",
   "metadata": {},
   "source": [
    "# How many JobRole and what is it?"
   ]
  },
  {
   "cell_type": "code",
   "execution_count": 6,
   "metadata": {},
   "outputs": [
    {
     "name": "stdout",
     "output_type": "stream",
     "text": [
      "JobRole มีดังนี้\n",
      "['Sales Executive' 'Research Scientist' 'Laboratory Technician'\n",
      " 'Manufacturing Director' 'Healthcare Representative' 'Manager'\n",
      " 'Sales Representative' 'Research Director' 'Human Resources']\n",
      "\n",
      "JobRole มีทั้งหมด 9 อย่าง\n"
     ]
    }
   ],
   "source": [
    "print(\"JobRole มีดังนี้\")\n",
    "print(df.JobRole.unique()) #unique ใช้ลบตัวที่สมาชิกมีค่าซ้ำ\n",
    "\n",
    "print(\"\\nJobRole มีทั้งหมด\",len(df.JobRole.unique()),\"อย่าง\")"
   ]
  },
  {
   "cell_type": "markdown",
   "metadata": {},
   "source": [
    "# How many Department and what is it?"
   ]
  },
  {
   "cell_type": "code",
   "execution_count": 7,
   "metadata": {},
   "outputs": [
    {
     "name": "stdout",
     "output_type": "stream",
     "text": [
      "Department มีดังนี้\n",
      "['Sales' 'Research & Development' 'Human Resources']\n",
      "\n",
      "Department มีทั้งหมด 3 อย่าง\n"
     ]
    }
   ],
   "source": [
    "print(\"Department มีดังนี้\")\n",
    "print(df.Department .unique())\n",
    "\n",
    "print(\"\\nDepartment มีทั้งหมด\",len(df.Department .unique()),\"อย่าง\")"
   ]
  },
  {
   "cell_type": "markdown",
   "metadata": {},
   "source": [
    "# How many EducationField and what is it?"
   ]
  },
  {
   "cell_type": "code",
   "execution_count": 8,
   "metadata": {},
   "outputs": [
    {
     "name": "stdout",
     "output_type": "stream",
     "text": [
      "EducationField มีดังนี้\n",
      "['Life Sciences' 'Other' 'Medical' 'Marketing' 'Technical Degree'\n",
      " 'Human Resources']\n",
      "\n",
      "EducationField มีทั้งหมด 6 อย่าง\n"
     ]
    }
   ],
   "source": [
    "print(\"EducationField มีดังนี้\")\n",
    "print(df.EducationField.unique())\n",
    "\n",
    "\n",
    "print(\"\\nEducationField มีทั้งหมด\",len(df.EducationField.unique()),\"อย่าง\")"
   ]
  },
  {
   "cell_type": "markdown",
   "metadata": {},
   "source": [
    "# What is the average age of people in this company?"
   ]
  },
  {
   "cell_type": "code",
   "execution_count": 15,
   "metadata": {},
   "outputs": [
    {
     "name": "stdout",
     "output_type": "stream",
     "text": [
      "อายุเฉลี่ยของประชากรในประเทศ คือ 36.923809523809524\n"
     ]
    }
   ],
   "source": [
    "print(\"อายุเฉลี่ยของประชากรในประเทศ คือ\",df.Age.mean())"
   ]
  },
  {
   "cell_type": "markdown",
   "metadata": {},
   "source": [
    "# How many female in this company?"
   ]
  },
  {
   "cell_type": "code",
   "execution_count": 18,
   "metadata": {},
   "outputs": [
    {
     "name": "stdout",
     "output_type": "stream",
     "text": [
      "จำนวนผู้หญิงทั้งหมดในประเทศนี้มี 588 คน\n"
     ]
    }
   ],
   "source": [
    "print(\"จำนวนผู้หญิงทั้งหมดในประเทศนี้มี\",len(df[df.Gender.isin(['Female'])]),\"คน\")"
   ]
  },
  {
   "cell_type": "markdown",
   "metadata": {},
   "source": [
    "# How many people have monthly income more than 10000?"
   ]
  },
  {
   "cell_type": "code",
   "execution_count": 28,
   "metadata": {},
   "outputs": [
    {
     "name": "stdout",
     "output_type": "stream",
     "text": [
      "จำนวนคนที่มีเงินเดือนมากกว่า 10000 มี 281 คน\n"
     ]
    }
   ],
   "source": [
    "print(\"จำนวนคนที่มีเงินเดือนมากกว่า 10000 มี\",len(df[df.MonthlyIncome > 10000]),\"คน\")\n"
   ]
  },
  {
   "cell_type": "markdown",
   "metadata": {},
   "source": [
    "# How many people who travel frequently and is single?"
   ]
  },
  {
   "cell_type": "code",
   "execution_count": 61,
   "metadata": {},
   "outputs": [
    {
     "name": "stdout",
     "output_type": "stream",
     "text": [
      "จำนวนคนที่เที่ยวบ่อยและยังโสด มี 96 คน\n"
     ]
    }
   ],
   "source": [
    "print(\"จำนวนคนที่เที่ยวบ่อยและยังโสด มี\",len(df[df.BusinessTravel.isin(['Travel_Frequently']) & df.MaritalStatus.isin(['Single'])]),\"คน\")"
   ]
  },
  {
   "cell_type": "markdown",
   "metadata": {},
   "source": [
    "# What is the average age of people group by maritial status?"
   ]
  },
  {
   "cell_type": "code",
   "execution_count": 37,
   "metadata": {},
   "outputs": [
    {
     "name": "stdout",
     "output_type": "stream",
     "text": [
      "อายุเฉลี่ยของกลุ่มคนตามสถานะการสมรส คือ\n",
      "MaritalStatus\n",
      "Divorced    37.489297\n",
      "Married     37.757801\n",
      "Single      35.336170\n",
      "Name: Age, dtype: float64\n"
     ]
    }
   ],
   "source": [
    "print(\"อายุเฉลี่ยของกลุ่มคนตามสถานะการสมรส มีดังนี้\")\n",
    "print(df.groupby('MaritalStatus').Age.mean())"
   ]
  },
  {
   "cell_type": "markdown",
   "metadata": {},
   "source": [
    "# What is the median hourly rate of people group by Business Travel?"
   ]
  },
  {
   "cell_type": "code",
   "execution_count": 39,
   "metadata": {},
   "outputs": [
    {
     "name": "stdout",
     "output_type": "stream",
     "text": [
      "อัตรารายชั่วโมงเฉลี่ยของกลุ่มคนโดยการเดินทางเพื่อธุรกิจ มีดังนี้\n",
      "BusinessTravel\n",
      "Non-Travel           65\n",
      "Travel_Frequently    65\n",
      "Travel_Rarely        66\n",
      "Name: HourlyRate, dtype: int64\n"
     ]
    }
   ],
   "source": [
    "print(\"อัตรารายชั่วโมงเฉลี่ยของกลุ่มคนโดยการเดินทางเพื่อธุรกิจ มีดังนี้\")\n",
    "\n",
    "print(df.groupby('BusinessTravel').HourlyRate.median())"
   ]
  },
  {
   "cell_type": "markdown",
   "metadata": {},
   "source": [
    "# What is the average hourly rate of people group by job role?"
   ]
  },
  {
   "cell_type": "code",
   "execution_count": 40,
   "metadata": {},
   "outputs": [
    {
     "name": "stdout",
     "output_type": "stream",
     "text": [
      "อัตราเฉลี่ยรายชั่วโมงของกลุ่มคนตามแต่ละอาชีพ มีดังนี้\n",
      "JobRole\n",
      "Healthcare Representative    66.839695\n",
      "Human Resources              64.173077\n",
      "Laboratory Technician        66.683398\n",
      "Manager                      66.833333\n",
      "Manufacturing Director       65.006897\n",
      "Research Director            63.762500\n",
      "Research Scientist           66.708904\n",
      "Sales Executive              65.438650\n",
      "Sales Representative         64.337349\n",
      "Name: HourlyRate, dtype: float64\n"
     ]
    }
   ],
   "source": [
    "print(\"อัตราเฉลี่ยรายชั่วโมงของกลุ่มคนตามแต่ละอาชีพ มีดังนี้\")\n",
    "\n",
    "print(df.groupby('JobRole').HourlyRate.mean())"
   ]
  },
  {
   "cell_type": "markdown",
   "metadata": {},
   "source": [
    "# Which job role has more hourly rate than overall average?"
   ]
  },
  {
   "cell_type": "code",
   "execution_count": 29,
   "metadata": {},
   "outputs": [
    {
     "name": "stdout",
     "output_type": "stream",
     "text": [
      "อัตราเฉลี่ยรายชั่วโมงของกลุ่มคนตามแต่ละอาชีพ มีดังนี้\n",
      "JobRole\n",
      "Healthcare Representative    66.839695\n",
      "Human Resources              64.173077\n",
      "Laboratory Technician        66.683398\n",
      "Manager                      66.833333\n",
      "Manufacturing Director       65.006897\n",
      "Research Director            63.762500\n",
      "Research Scientist           66.708904\n",
      "Sales Executive              65.438650\n",
      "Sales Representative         64.337349\n",
      "Name: HourlyRate, dtype: float64\n",
      "\n",
      "\n",
      "The average of hourly rate is 65.89115646258503\n",
      "\n",
      "\n",
      "The job role has more hourly rate than overall average are..\n",
      " ['Healthcare Representative', 'Laboratory Technician', 'Manager', 'Research Scientist']\n"
     ]
    }
   ],
   "source": [
    "#แสดงตาราง\n",
    "jobHR = df.groupby('JobRole').HourlyRate.mean()\n",
    "print(\"อัตราเฉลี่ยรายชั่วโมงของกลุ่มคนตามแต่ละอาชีพ มีดังนี้\")\n",
    "print(jobHR)\n",
    "\n",
    "\n",
    "print(\"\\n\") #เพื่อความสวยงามและสบายตา\n",
    "\n",
    "#หาค่าเฉลี่ย\n",
    "aver_HR = df.HourlyRate.mean()\n",
    "print(\"The average of hourly rate is\",aver_HR)\n",
    "\n",
    "\n",
    "print(\"\\n\") #เพื่อความสวยงามและสบายตา\n",
    "\n",
    "\n",
    "#ทำการกรองว่าอาชีพไหนสูงกว่าค่าเฉลี่ยบ้าง\n",
    "MoreThanAver_jobHR = list(filter( lambda x: (x > aver_HR),jobHR ))  \n",
    "#print(MoreThanAver_jobHR)\n",
    "\n",
    "\n",
    "#ต้องการให้แสดงชื่อของอาชีพที่สูงกว่าค่าเฉลี่ย\n",
    "ListNameMoreThanAver_jobHR = []\n",
    "\n",
    "for i in MoreThanAver_jobHR:\n",
    "    if i == 66.83969465648855:\n",
    "        ListNameMoreThanAver_jobHR.append(\"Healthcare Representative\")\n",
    "    elif i == 64.17307692307692:\n",
    "        ListNameMoreThanAver_jobHR.append(\"Human Resources\")\n",
    "    elif i == 66.68339768339769:\n",
    "        ListNameMoreThanAver_jobHR.append(\"Laboratory Technician\")\n",
    "    elif i == 66.83333333333333:\n",
    "        ListNameMoreThanAver_jobHR.append(\"Manager\")      \n",
    "    elif i == 65.00689655172414:\n",
    "        ListNameMoreThanAver_jobHR.append(\"Manufacturing Director\")\n",
    "    elif i == 63.7625:\n",
    "        ListNameMoreThanAver_jobHR.append(\"Research Director\")\n",
    "    elif i == 66.70890410958904:\n",
    "        ListNameMoreThanAver_jobHR.append(\"Research Scientist\")\n",
    "    elif i == 65.43865030674847:\n",
    "        ListNameMoreThanAver_jobHR.append(\"Sales Executive\")      \n",
    "    elif i == 64.33734939759036:\n",
    "        ListNameMoreThanAver_jobHR.append(\"Sales Representative\")\n",
    "            \n",
    "        \n",
    "\n",
    "print(\"The job role has more hourly rate than overall average are..\\n\",ListNameMoreThanAver_jobHR)"
   ]
  },
  {
   "cell_type": "markdown",
   "metadata": {
    "collapsed": true
   },
   "source": [
    "---"
   ]
  }
 ],
 "metadata": {
  "anaconda-cloud": {},
  "kernelspec": {
   "display_name": "Python 3",
   "language": "python",
   "name": "python3"
  },
  "language_info": {
   "codemirror_mode": {
    "name": "ipython",
    "version": 3
   },
   "file_extension": ".py",
   "mimetype": "text/x-python",
   "name": "python",
   "nbconvert_exporter": "python",
   "pygments_lexer": "ipython3",
   "version": "3.8.8"
  }
 },
 "nbformat": 4,
 "nbformat_minor": 1
}
